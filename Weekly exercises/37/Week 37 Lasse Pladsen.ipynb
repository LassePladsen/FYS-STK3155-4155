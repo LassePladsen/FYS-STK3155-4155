{
 "cells": [
  {
   "cell_type": "markdown",
   "source": [
    "    # Week 37 exercises\n",
    "## Exercise 1\n",
    "I will first shown the expression for the expectation value of $y_i$:\n",
    "$$\n",
    "    \\mathbb{E}(y_i) = \\mathbb{E}(\\Sigma_j X_{ij}\\beta_j + \\epsilon_i)\n",
    "    \\\\ =  \\mathbb{E}(\\Sigma_j X_{ij}\\beta_j) + \\mathbb{E}(\\epsilon_i)\n",
    "    \\\\ = \\mathbb{E}(\\Sigma_j X_{ij}\\beta_j)\n",
    "    \\\\ = \\Sigma_j X_{ij}\\beta_j\n",
    "    \\\\ = \\bf X_{i,*}\\beta\n",
    "$$\n",
    "Where I used that $\\epsilon$ is a random noise from a normal distribution so that its mean and expectation value must be zero. Also that $\\bf y = X\\beta + \\epsilon$.\n",
    "\n",
    "Now to show the variance of $y_i$:\n",
    "$$\n",
    "    Var(y_i) = \\mathbb{E}(y_i^2) - \\mathbb{E}(y_i)^2 \n",
    "    \\\\ = \\mathbb{E}[(\\mathbf {X_{i,*}\\beta)} + \\epsilon_i)^2] - (\\mathbf{X_{i,*}\\beta)} ^2 \n",
    "    \\\\ = \\mathbb{E}[(\\mathbf {X_{i,*}\\beta)}^2 + \\epsilon_i^2 + 2\\mathbf {X_{i,*}\\beta}\\epsilon_i] - (\\mathbf {X_{i,*}\\beta)} ^2 \n",
    "    \\\\ = \\mathbb{E}[(\\mathbf {X_{i,*}\\beta)}^2] + \\mathbb{E}[\\epsilon_i^2] + \\mathbb{E}[2\\mathbf {X_{i,*}\\beta}\\epsilon_i] - (\\mathbf {X_{i,*}\\beta)} ^2 \n",
    "    \\\\ = (\\mathbf {X_{i,*}\\beta)}^2 + \\mathbb{E}[\\epsilon_i^2] + 2\\mathbf {X_{i,*}\\beta}\\mathbb{E}[\\epsilon_i] - (\\mathbf {X_{i,*}\\beta)} ^2 \n",
    "    \\\\ = \\mathbb{E}[\\epsilon_i^2]\n",
    "    \\\\ = Var(\\epsilon_i) + \\mathbb{E}(\\epsilon)^2\n",
    "    \\\\ = Var(\\epsilon_i)\n",
    "    \\\\ = \\sigma^2\n",
    "$$\n",
    "\n",
    "Next I show the expression for the $\\mathbf{\\hat{\\beta}}_{OLS}=\\mathbf{(X^TX)}^{-1}\\mathbf{X^Ty}$:\n",
    "$$\n",
    "    \\mathbb{E}(\\mathbf{\\hat{\\beta}}_{OLS}) = \\mathbb{E}[\\mathbf{(X^TX)}^{-1}\\mathbf{X^Ty}]\n",
    "    \\\\ = \\mathbf{(X^TX)}^{-1}\\mathbf{X^T}\\mathbb{E}[\\mathbf{y}]\n",
    "    \\\\ = \\mathbf{(X^TX)}^{-1}\\mathbf{X^T} \\bf X\\beta\n",
    "    \\\\ = \\bf \\beta\n",
    "$$"
   ],
   "metadata": {
    "collapsed": false
   },
   "id": "c4d47ef203b2a43d"
  },
  {
   "cell_type": "markdown",
   "source": [
    "Then lastly I will show the variance of $\\mathbf{\\hat{\\beta}}^{OLS}$:\n",
    "$$\n",
    "    Var(\\mathbf{\\hat{\\beta}}^{OLS}) = \\mathbb{E}[(\\mathbf{\\hat{\\beta}}^{OLS})^2] - \\mathbb{E}[\\mathbf{\\hat{\\beta}}^{OLS}]^2\n",
    "    \\\\ = \\mathbb{E}[(\\mathbf{X}^T\\mathbf{X})^{-1}\\mathbf{X}^T\\mathbf{y})^2] - \\mathbf{\\beta}^2\n",
    "    \\\\ = \\mathbb{E}[(\\mathbf{X}^T\\mathbf{X})^{-1}\\mathbf{X}^T\\mathbf{y})(\\mathbf{X}^T\\mathbf{X})^{-1}\\mathbf{X}^T\\mathbf{y})^T] - \\mathbf{\\beta}^T\\mathbf{\\beta}\n",
    "    \\\\ = \\mathbb{E}[(\\mathbf{X}^T\\mathbf{X})^{-1}\\mathbf{X}^T\\mathbf{y}\\mathbf{y}^T \\mathbf{X} (\\mathbf{X}^T \\mathbf{X})^{-1}] - \\mathbf{\\beta}^T\\mathbf{\\beta}\n",
    "    \\\\ = (\\mathbf{X}^T\\mathbf{X})^{-1}\\mathbf{X}^T\\mathbb{E}[\\mathbf{y}\\mathbf{y}^T ]\\mathbf{X} (\\mathbf{X}^T \\mathbf{X})^{-1} - \\mathbf{\\beta}^T\\mathbf{\\beta}\n",
    "$$"
   ],
   "metadata": {
    "collapsed": false
   },
   "id": "cabe41da892e3219"
  },
  {
   "cell_type": "markdown",
   "source": [
    "Here I will calculate $\\mathbb{E}[\\mathbf{y y}^T]$ separately for ease:\n",
    "$$\n",
    "    \\mathbb{E}[\\mathbf{y y}^T] = \\mathbb{E}[(\\mathbf{X\\beta +\\epsilon)(\\mathbf{X\\beta +\\epsilon)^T]\n",
    "$$\n",
    "$$\n",
    "    = \\mathbb{E}[(\\mathbf{X\\beta \\beta}^T \\mathbf{X}^T + \\mathbf{\\epsilon \\epsilon}^T + \\mathbf{X\\beta\\epsilon}^T + \\mathbf{\\epsilon\\beta}^T\\mathbf{X}^T]\n",
    "    \\\\ = \\mathbf{X\\beta \\beta}^T \\mathbf{X}^T + \\mathbb{E}[\\mathbf{\\epsilon \\epsilon}^T] + \\mathbf{X\\beta} \\mathbb{E}[\\mathbf{\\epsilon}^T] + \\mathbb{E}[\\mathbf{\\epsilon}] \\mathbf{\\beta}^T\\mathbf{X}^T\n",
    "    \\\\ = \\mathbf{X\\beta \\beta}^T \\mathbf{X}^T + \\mathbb{E}[\\mathbf{\\epsilon \\epsilon}^T]\n",
    "    \\\\ = \\mathbf{X\\beta \\beta}^T \\mathbf{X}^T + \\sigma^2 \\mathbf I\n",
    "$$\n",
    "Now I put this back into the Variance expression:\n",
    "$$\n",
    "    Var(\\mathbf{\\hat{\\beta}}^{OLS}) = (\\mathbf{X}^T\\mathbf{X})^{-1}\\mathbf{X}^T (\\mathbf{X\\beta \\beta}^T \\mathbf{X}^T + \\sigma^2 \\mathbf I) \\mathbf{X} (\\mathbf{X}^T \\mathbf{X})^{-1} - \\mathbf{\\beta}^T\\mathbf{\\beta}\n",
    "    \\\\ = [\\mathbf{\\beta \\beta}^T \\mathbf{X}^T + (\\mathbf{X}^T\\mathbf{X})^{-1}\\mathbf{X}^T \\sigma^2] \\mathbf{X} (\\mathbf{X}^T \\mathbf{X})^{-1} - \\mathbf{\\beta}^T\\mathbf{\\beta}\n",
    "    \\\\ = [\\mathbf{\\beta \\beta}^T + \\sigma^2(\\mathbf{X}^T\\mathbf{X})^{-1}] - \\mathbf{\\beta}^T\\mathbf{\\beta}\n",
    "    \\\\ = \\sigma^2(\\mathbf{X}^T\\mathbf{X})^{-1}\n",
    "$$"
   ],
   "metadata": {
    "collapsed": false
   },
   "id": "95f12c409f1baa17"
  },
  {
   "cell_type": "markdown",
   "source": [
    "## Exercise 2\n",
    "I will now show the expectation value for $\\mathbf{\\hat{\\beta}}^{ridge}=(\\mathbf{X^TX} +\\lambda \\mathbf{I} )^{-1}\\mathbf{X^Ty}$:\n",
    "$$\n",
    "    \\mathbb{E}(\\mathbf{\\hat{\\beta}}^{ridge}) = \\mathbb{E}[(\\mathbf{X^TX} +\\lambda \\mathbf{I} )^{-1}\\mathbf{X^Ty}]\n",
    "     \\\\= (\\mathbf{X^TX} +\\lambda \\mathbf{I} )^{-1}\\mathbf{X^T}\\mathbb{E}[\\mathbf y]\n",
    "    \\\\ = (\\mathbf{X^TX} +\\lambda \\mathbf{I} )^{-1}\\mathbf{X^T} \\mathbf X\\beta\n",
    "$$\n",
    "\n",
    "Lastly I will show the variance of $\\mathbf{\\hat{\\beta}}^{ridge}$:\n",
    "$$\n",
    "    Var(\\mathbf{\\hat{\\beta}}^{ridge}) = \\mathbb{E}[(\\mathbf{\\hat{\\beta}}^{ridge})^2] - \\mathbb{E}[\\mathbf{\\hat{\\beta}}^{ridge}]^2\n",
    "    \\\\ = \\mathbb{E}[\\{(\\mathbf{X^TX} +\\lambda \\mathbf{I} )^{-1}\\mathbf{X^Ty}\\}^2] - [(\\mathbf{X^TX} +\\lambda \\mathbf{I} )^{-1}\\mathbf{X^T} \\mathbf X\\beta]^2\n",
    "    \\\\ = \\mathbb{E}[\\{(\\mathbf{X^TX} +\\lambda \\mathbf{I} )^{-1}\\mathbf{X^Ty}\\}\\{(\\mathbf{X^TX} +\\lambda \\mathbf{I} )^{-1}\\mathbf{X^Ty}\\}^T] - [(\\mathbf{X^TX} +\\lambda \\mathbf{I} )^{-1}\\mathbf{X^T} \\mathbf X\\beta]^2\n",
    "    \\\\ = \\mathbb{E}[\\{(\\mathbf{X^TX} +\\lambda \\mathbf{I} )^{-1}\\mathbf{X^Ty}\\} \\{ \\mathbf{y^T}\\mathbf{X} [(\\mathbf{X^TX} +\\lambda \\mathbf{I} )^{-1}]^T\\}] - [(\\mathbf{X^TX} +\\lambda \\mathbf{I} )^{-1}\\mathbf{X^T} \\mathbf X\\beta]^2\n",
    "    \\\\ = \\mathbb{E}[(\\mathbf{X^TX} +\\lambda \\mathbf{I} )^{-1}\\mathbf{X^Ty} \\mathbf{y^T}\\mathbf{X} [(\\mathbf{X^TX} +\\lambda \\mathbf{I} )^{-1}]^T] - [(\\mathbf{X^TX} +\\lambda \\mathbf{I} )^{-1}\\mathbf{X^T} \\mathbf X\\beta]^2\n",
    "    \\\\ = (\\mathbf{X^TX} +\\lambda \\mathbf{I} )^{-1}\\mathbf{X^T} \\   \\mathbb{E}[\\mathbf{yy^T}]   \\ \\mathbf{X} [(\\mathbf{X^TX} +\\lambda \\mathbf{I} )^{-1}]^T - [(\\mathbf{X^TX} +\\lambda \\mathbf{I} )^{-1}\\mathbf{X^T} \\mathbf X\\beta]^2\n",
    "$$\n",
    "we put in what I already found for $\\mathbb{E}(\\mathbf{yy}^T)$:\n",
    "$$\n",
    "    = (\\mathbf{X^TX} +\\lambda \\mathbf{I} )^{-1}\\mathbf{X^T} \\  \\{\\mathbf{X\\beta \\beta}^T \\mathbf{X}^T + \\sigma^2 \\mathbf I\\} \\   \\mathbf{X} [(\\mathbf{X^TX} +\\lambda \\mathbf{I} )^{-1}]^T - [(\\mathbf{X^TX} +\\lambda \\mathbf{I} )^{-1}\\mathbf{X^T} \\mathbf X\\beta]^2\n",
    "$$"
   ],
   "metadata": {
    "collapsed": false
   },
   "id": "d4cc1d843a5c2d20"
  },
  {
   "cell_type": "markdown",
   "source": [
    "multiply into the $\\{\\}$ brackets:\n",
    "$$\n",
    "    = \\{ (\\mathbf{X^TX} +\\lambda \\mathbf{I} )^{-1}\\mathbf{X^T} \\mathbf{X\\beta\\beta}^T \\mathbf{X}^T  \\mathbf{X} [(\\mathbf{X^TX} +\\lambda \\mathbf{I} )^{-1}]^T  +  (\\mathbf{X^TX} +\\lambda \\mathbf{I} )^{-1}\\mathbf{X^T} \\sigma^2 \\mathbf{I}  \\mathbf{X} [(\\mathbf{X^TX} +\\lambda \\mathbf{I} )^{-1}]^T  \\} - [(\\mathbf{X^TX} +\\lambda \\mathbf{I} )^{-1}\\mathbf{X^T} \\mathbf X\\beta]^2\n",
    "    \\\\ = \\{ [(\\mathbf{X^TX} +\\lambda \\mathbf{I} )^{-1}\\mathbf{X^T} \\mathbf{X\\beta}][(\\mathbf{X^TX} +\\lambda \\mathbf{I} )^{-1}\\mathbf{X^T} \\mathbf{X\\beta}]^T  +  (\\mathbf{X^TX} +\\lambda \\mathbf{I} )^{-1}\\mathbf{X^T} \\sigma^2 \\mathbf{I}  \\mathbf{X} [(\\mathbf{X^TX} +\\lambda \\mathbf{I} )^{-1}]^T  \\} \\\\ - [(\\mathbf{X^TX} +\\lambda \\mathbf{I} )^{-1}\\mathbf{X^T} \\mathbf X\\beta]^2\n",
    "    \\\\ = \\{ [(\\mathbf{X^TX} +\\lambda \\mathbf{I} )^{-1}\\mathbf{X^T} \\mathbf{X\\beta}]^2  +  (\\mathbf{X^TX} +\\lambda \\mathbf{I} )^{-1}\\mathbf{X^T} \\sigma^2 \\mathbf{I}  \\mathbf{X} [(\\mathbf{X^TX} +\\lambda \\mathbf{I} )^{-1}]^T  \\} - [(\\mathbf{X^TX} +\\lambda \\mathbf{I} )^{-1}\\mathbf{X^T} \\mathbf X\\beta]^2\n",
    "    \\\\ =  (\\mathbf{X^TX} +\\lambda \\mathbf{I} )^{-1}\\mathbf{X^T} \\sigma^2 \\mathbf{I}  \\mathbf{X} [(\\mathbf{X^TX} +\\lambda \\mathbf{I} )^{-1}]^T \n",
    "    \\\\ = \\sigma^2(\\mathbf{X^TX} +\\lambda \\mathbf{I} )^{-1}\\mathbf{X^T} \\mathbf{X} [(\\mathbf{X^TX} +\\lambda \\mathbf{I} )^{-1}]^T \n",
    "$$\n",
    "which is what I wanted to show."
   ],
   "metadata": {
    "collapsed": false
   },
   "id": "a2d68098d1734396"
  }
 ],
 "metadata": {
  "kernelspec": {
   "display_name": "Python 3",
   "language": "python",
   "name": "python3"
  },
  "language_info": {
   "codemirror_mode": {
    "name": "ipython",
    "version": 2
   },
   "file_extension": ".py",
   "mimetype": "text/x-python",
   "name": "python",
   "nbconvert_exporter": "python",
   "pygments_lexer": "ipython2",
   "version": "2.7.6"
  }
 },
 "nbformat": 4,
 "nbformat_minor": 5
}
