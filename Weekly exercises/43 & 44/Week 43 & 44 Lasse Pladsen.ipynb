{
 "cells": [
  {
   "cell_type": "markdown",
   "source": [
    "# Exercises week 43 and 44\n",
    "### The OR, AND, and XOR gates\n",
    "\n",
    "We have two input values $x_1$ and $x_2$ which decide the output from the two types of gates. Since each input value can be either 0 or 1 we can write the input as a design matrix $X$ where the first and second column represents $x_1$ and $x_2$ respectively as:\n",
    "$$X = \\begin{bmatrix} 0 & 0 \\\\ 0 & 1 \\\\ 1 & 0 \\\\ 1 & 1 \\end{bmatrix}$$\n",
    "\n",
    "The output $y$ for the different gates we can write as the vectors $y^T=[0, 1,1,1]$ for the OR gate, $y^T=[0,0,0,1]$ for the AND gate, and $y^T=[0, 1, 1, 0]$ for the XOR gate. We setup this matrix and these vectors:\n"
   ],
   "metadata": {
    "collapsed": false
   },
   "id": "bf257eb40befa320"
  },
  {
   "cell_type": "code",
   "execution_count": 3,
   "outputs": [],
   "source": [
    "import numpy as np\n",
    "import matplotlib.pyplot as plt\n",
    "import seaborn as sns  # heatmap plots\n",
    "import jax.numpy as jnp\n",
    "from jax import grad  # automatic differentiation\n",
    "from sklearn.metrics import accuracy_score\n",
    "from sklearn.neural_network import MLPClassifier  # neural network from sckikit-learn for comparision\n",
    "from sklearn.exceptions import ConvergenceWarning\n",
    "import warnings  \n",
    "\n",
    "warnings.simplefilter(\"ignore\", ConvergenceWarning)  # ignore convergence warnings from sklearn\n",
    "\n",
    "# Set up design matrix and output vectors\n",
    "X = np.asarray([\n",
    "    [0, 0],\n",
    "    [0, 1],\n",
    "    [1, 0],\n",
    "    [1, 1]\n",
    "])\n",
    "\n",
    "# Gate target arrays\n",
    "yOR = np.asarray([0, 1, 1, 1]).reshape(-1, 1)\n",
    "yAND = np.asarray([0, 0, 0, 1]).reshape(-1, 1)\n",
    "yXOR = np.asarray([0, 1, 1, 0]).reshape(-1, 1)"
   ],
   "metadata": {
    "collapsed": false,
    "ExecuteTime": {
     "end_time": "2023-10-27T11:55:59.365896Z",
     "start_time": "2023-10-27T11:55:59.292088100Z"
    }
   },
   "id": "58160402d5f28b1c"
  },
  {
   "cell_type": "markdown",
   "source": [
    "We create our NN architecture with the Sigmoid function $\\sigma$ as activation function where\n",
    "\\begin{equation}\n",
    "    \\sigma(x) = \\frac{1}{1+e^{-x}}\n",
    "\\end{equation}\n",
    "as such"
   ],
   "metadata": {
    "collapsed": false
   },
   "id": "40a26ec520420a39"
  },
  {
   "cell_type": "code",
   "execution_count": 4,
   "outputs": [
    {
     "name": "stdout",
     "output_type": "stream",
     "text": [
      "Before back propagation:\n",
      "\n",
      "Output weights and bias:\n",
      "[[-0.77586755]\n",
      " [ 0.8087058 ]]\n",
      "[0.01]\n",
      "\n",
      "Hidden weights and bias:\n",
      "[[ 0.60172129  1.15161897]\n",
      " [-1.35946236  0.22205533]]\n",
      "[0.01 0.01]\n"
     ]
    }
   ],
   "source": [
    "# Parameters\n",
    "n_hidden_nodes = 2  # hidden nodes per layer\n",
    "n_categories = 1  # output nodes\n",
    "n_inputs, n_features = X.shape  # 2 inputs, 4 features\n",
    "target = yOR  # choose which target gate to train on [yOR / yAND / yXOR]\n",
    "\n",
    "\n",
    "# Activation function \n",
    "def activation(x):\n",
    "    # Use sigmoid function:\n",
    "    return 1 / (1 + np.exp(-x))\n",
    "\n",
    "\n",
    "# Initialize random number generator with seed\n",
    "rng = np.random.default_rng(2023)\n",
    "\n",
    "# Weights and bias in the hidden layer\n",
    "hidden_weights = rng.standard_normal((n_features, n_hidden_nodes))  # weights normally distributed\n",
    "hidden_bias = np.zeros(n_hidden_nodes) + 0.01\n",
    "\n",
    "# Weights and bias in the output layer\n",
    "output_weights = rng.standard_normal((n_hidden_nodes, n_categories))  # weights normally distributed\n",
    "output_bias = np.zeros(n_categories) + 0.01\n",
    "\n",
    "print(\"Before back propagation:\\n\")\n",
    "print(\"Output weights and bias:\")\n",
    "print(output_weights)\n",
    "print(output_bias)\n",
    "\n",
    "print()\n",
    "print(\"Hidden weights and bias:\")\n",
    "print(hidden_weights)\n",
    "print(hidden_bias)"
   ],
   "metadata": {
    "collapsed": false,
    "ExecuteTime": {
     "end_time": "2023-10-27T11:55:59.367890400Z",
     "start_time": "2023-10-27T11:55:59.296756Z"
    }
   },
   "id": "cfd0e5879201f65e"
  },
  {
   "cell_type": "markdown",
   "source": [
    "### Feed forward\n",
    "Then we set up the feed forward algorithm and compare one pass with the target vectors $y^T$"
   ],
   "metadata": {
    "collapsed": false
   },
   "id": "90be2689e40d3f08"
  },
  {
   "cell_type": "code",
   "execution_count": 5,
   "outputs": [
    {
     "name": "stdout",
     "output_type": "stream",
     "text": [
      "Target:\n",
      "[[0]\n",
      " [1]\n",
      " [1]\n",
      " [1]]\n",
      "\n",
      "Probabilities:\n",
      "[[0.50662492]\n",
      " [0.5747513 ]\n",
      " [0.53068917]\n",
      " [0.60044713]]\n",
      "\n",
      "Prediction:\n",
      "[[1]\n",
      " [1]\n",
      " [1]\n",
      " [1]]\n"
     ]
    }
   ],
   "source": [
    "def feed_forward(X):\n",
    "    \"\"\"Feed forward algorithm for one hidden layer\"\"\"\n",
    "    # Weighted sum of inputs to the hidden layer\n",
    "    z_h = X @ hidden_weights + hidden_bias\n",
    "\n",
    "    # Activation in the hidden layer\n",
    "    a_h = activation(z_h)\n",
    "\n",
    "    # Weighted sum of inputs to the output layer\n",
    "    z_o = a_h @ output_weights + output_bias\n",
    "\n",
    "    # Activation of output layer; contains the output probabilities\n",
    "    probabilities = activation(z_o)  # this is a_o\n",
    "    return a_h, probabilities\n",
    "\n",
    "\n",
    "@np.vectorize\n",
    "def predict(probability):\n",
    "    \"\"\"Get prediction from array with floats. Step function.\"\"\"\n",
    "    if not isinstance(probability, (int, float)):\n",
    "        raise ValueError(f\"Probability must be a number, int or float. Got {type(probability)}\")\n",
    "    if probability < 0.5:\n",
    "        return 0\n",
    "    else:\n",
    "        return 1\n",
    "\n",
    "\n",
    "# Make prediction and compare with gate target y_vectors\n",
    "a_h, probabilities = feed_forward(X)\n",
    "predictions = predict(probabilities)\n",
    "\n",
    "print(\"Target:\")\n",
    "print(target)\n",
    "\n",
    "print(\"\\nProbabilities:\")\n",
    "print(probabilities)\n",
    "\n",
    "print(\"\\nPrediction:\")\n",
    "print(predictions)"
   ],
   "metadata": {
    "collapsed": false,
    "ExecuteTime": {
     "end_time": "2023-10-27T11:55:59.427713700Z",
     "start_time": "2023-10-27T11:55:59.306216700Z"
    }
   },
   "id": "197d2b7a7bd3be38"
  },
  {
   "cell_type": "markdown",
   "source": [
    "We see this prediction does not match any target. This is because we only did one pass and that was with random starting weights. Now we setup the cost function and the back propagation algorithm.\n"
   ],
   "metadata": {
    "collapsed": false
   },
   "id": "fb88c7ba8f6ff0d"
  },
  {
   "cell_type": "markdown",
   "source": [
    "<!-- \n",
    "For the cost function we use the cross entropy for binary classification given as\n",
    "$$C(\\boldsymbol{\\theta}) = -\\sum_{i=1}^n \\left( y_i \\ln [p(y_i | x_i, \\boldsymbol{\\theta)}] + (1-y_i)\\ln[1-p(y_i | x_i, \\boldsymbol{\\theta)}] \\right)$$\n",
    "\n",
    "where the probabilities $p$ we have from the sigmoid function \n",
    "$$p(y_i=1|x_i, \\boldsymbol{\\theta}) = \\frac{\\exp(\\theta_0 + \\theta_1 x_i)}{1- \\exp(\\theta_0 + \\theta_1 x_i)}$$\n",
    "$$p(y_i=0|x_i, \\boldsymbol{\\theta}) = 1 - p(y_i=1|x_i, \\boldsymbol{\\theta})$$ \n",
    "-->\n",
    "### Cost function\n",
    "\n",
    "For the cost function we use the cross entropy for binary classification given as\n",
    "\\begin{equation}\n",
    "    C(\\boldsymbol{W}) = -\\sum_{i=1}^n \\left( t_i \\log a_i^L + (1-t_i)\\log(1-a_i^L) \\right)\n",
    "\\end{equation}\n",
    "\n",
    "where $t$ is the target and $a^L$ is the final activation from the final/output layer, expressed for a general layer $l$ as:\n",
    "\\begin{equation*}\n",
    "    a_i^l = \\sigma(z_i^l)\n",
    "\\end{equation*}\n",
    "\n",
    "and $z^L$ is the weighted sum of inputs to the output layer, expressed for a general layer $l$ as:\n",
    "\n",
    "\\begin{equation*}\n",
    "    z_i^l = \\sum_j w_{ij}^l a_j^{l-1} + b_i^l\n",
    "\\end{equation*}\n",
    "\n",
    "or in matrix notification:\n",
    "\n",
    "\\begin{equation}\n",
    "    \\mathbf{a}^l = \\sigma(\\mathbf{z}^l)\n",
    "\\end{equation}\n",
    "\n",
    "\\begin{equation}\n",
    "    \\mathbf{z}^l = \\mathbf{W}^l \\mathbf{a}^{l-1} + \\mathbf{b}^l\n",
    "\\end{equation}\n",
    "\n",
    "for the first layer $l=1$ we have the input layer $a^0$ which is just the input design matrix $X$:\n",
    "\\begin{equation}\n",
    "    \\mathbf{z}^{l=1} = \\mathbf{W}^{l=1} \\mathbf{X} + \\mathbf{b}^{l=1}\n",
    "\\end{equation}"
   ],
   "metadata": {
    "collapsed": false
   },
   "id": "b24a0a554fb220f"
  },
  {
   "cell_type": "code",
   "execution_count": 6,
   "outputs": [
    {
     "data": {
      "text/plain": "Array(20.723267, dtype=float32)"
     },
     "execution_count": 6,
     "metadata": {},
     "output_type": "execute_result"
    }
   ],
   "source": [
    "def cost_log_reg(target):\n",
    "    \"\"\"Returns a function for the logistic cross entropy for binary classification / log loss function created using a given target vector.\"\"\"\n",
    "    d = 1e-9  # small value to avoid infinities\n",
    "\n",
    "    def func(a):\n",
    "        return -jnp.sum(\n",
    "                (target * jnp.log(a + d)) + ((1 - target) * jnp.log(1 - a + d))\n",
    "        )\n",
    "\n",
    "    return func\n",
    "\n",
    "\n",
    "cost_func = cost_log_reg(target)\n",
    "cost_func(predictions)"
   ],
   "metadata": {
    "collapsed": false,
    "ExecuteTime": {
     "end_time": "2023-10-27T11:56:00.048770Z",
     "start_time": "2023-10-27T11:55:59.313035500Z"
    }
   },
   "id": "e46a022e02ed29b"
  },
  {
   "cell_type": "markdown",
   "source": [
    "### Calculating the analytical gradients for back propagation\n",
    "\n",
    "To find the change/gradient for the values we need to update by doing back propagation we need to differentiate our cost function with regards to what we want to update. Firstly we will update the weights, and since we want to start at the output layer and move backwards into the hidden layers we start by differentiate with regards to the weights in the output layer $w^L$. Using the chain rule we can start to write it as \n",
    "\n",
    "\\begin{align*}\n",
    "    \\nabla w_{ij}^L = \\frac{\\partial C}{\\partial w^L_{ij}} &= \\frac{\\partial C}{\\partial a^L_i} \\frac{\\partial a^L_i}{\\partial w^L_{ij}}\n",
    "    \\\\ &= \\frac{\\partial C}{\\partial a^L_i} \\frac{\\partial a^L_i}{\\partial z^L_{i}} \\frac{\\partial z^L_{i}}{\\partial w^L_{ij}}\n",
    "\\end{align*}\n",
    "\n",
    "We begin by the first derivate by differentiating the cost function as defined above:\n",
    "\n",
    "\\begin{align*}\n",
    "    \\frac{\\partial C}{\\partial a_i^L} &= -\\frac{\\partial}{\\partial a_i^L}(t_i\\ln(a_i^L) + (1-t_i)\\ln(1-a_i^L))\n",
    "    \\\\ &= -(\\frac{t_i}{a_i^L} + \\frac{1-t_i}{1-a_i^L}(-1))\n",
    "    \\\\ &= \\frac{1-t_i}{1-a_i^L} - \\frac{t_i}{a_i^L}\n",
    "    \\\\ &= \\frac{a_i^L(1-t_i)}{a_i^L(1-a_i^L)} - \\frac{t_i(1-a_i^L)}{a_i^L(1-a_i^L)}\n",
    "    \\\\ &= \\underline{\\frac{a_i^L-t_i}{a_i^L(1-a_i^L)}}\n",
    "\\end{align*}\n",
    "\n",
    "for the second derivate we differentiate $a^L_i=\\sigma(z_i^L)$ and get\n",
    "\n",
    "\\begin{align*}\n",
    "    \\frac{\\partial a^L_i}{\\partial z^L_{i}} &= \\sigma'(z_i^L)\n",
    "    \\\\ &= \\frac{\\partial}{\\partial z^L_{i}} \\left( \\frac{1}{1+\\exp(-z_i^L)} \\right)\n",
    "    \\\\ &= \\frac{0-[-\\exp(-z_i^L)] }{(1+\\exp(-z_i^L))^2}\n",
    "    \\\\ &= \\frac{\\exp({-z_i^L})}{(1+\\exp({-z_i^L}))^2}\n",
    "\\end{align*}\n",
    "\n",
    "this can be rewritten more nicely by again using the above expression for $a_i^L=\\frac{1}{1+\\exp(-z_i^L)}$, which gives $\\exp(-z_i^L)=\\frac{1}{a_i^L} - 1$. We can substitute the denominator with $a_i^L$ and the numerator with $\\frac{1}{a_i^L} - 1$ and get\n",
    "\n",
    "\\begin{align*}\n",
    "    &= (\\frac{1}{a_i^L} - 1)(a_i^L)^2\n",
    "    \\\\ &= \\underline{a_i^L (1-a_i^L)}\n",
    "\\end{align*}\n",
    "\n",
    "for the third derivate we differentiate $z^L_i = \\sum_j \\left( w^L_{ij}a^{L-1}_j + b^L_i\\right)$ and get\n",
    "\n",
    "\\begin{align*}\n",
    "   \\frac{\\partial z^L_{i}}{\\partial w^L_{ij}} &= \\frac{\\partial}{\\partial w^L_{ij}} \\left( \\sum_j w^L_{ij}a^{L-1}_j + b^L_i \\right)\n",
    "   \\\\ &= \\underline{a^{L-1}_j}\n",
    "\\end{align*}\n",
    "\n",
    "so our final expression for the gradient is\n",
    "\n",
    "\\begin{align*}\n",
    "    \\nabla w_{ij}^L  &= \\frac{a_i^L-t_i}{a_i^L(1-a_i^L)} a_i^L (1-a_i^L) a^{L-1}_j\n",
    "    \\\\ &= a^{L-1}_j (a_i^L-t_i)\n",
    "\\end{align*}\n",
    "\n",
    "we choose to defined the second part as the output error:\n",
    "\\begin{equation*}  \n",
    "    \\delta_i^L \\equiv  \\frac{\\partial C}{z_i^L} = \\frac{\\partial C}{\\partial a^L_i} \\frac{\\partial a^L_i}{\\partial z^L_{i}} =   a_i^L-t_i\n",
    "\\end{equation*}\n",
    "\n",
    "\n",
    "\n",
    "or using matrix notification we can write these two equations as\n",
    "\n",
    "\\begin{equation}\n",
    "    \\boldsymbol{\\delta}^L = \\mathbf{a}^L-\\mathbf{t}\n",
    "\\end{equation}\n",
    "\n",
    "\\begin{equation}\n",
    "    \\nabla \\mathbf{W}^L = (\\mathbf{a}^{L-1})^T \\boldsymbol{\\delta}^L\n",
    "\\end{equation}\n",
    "\n",
    "\n",
    "\n",
    "\n",
    "\n",
    "\n",
    "\n",
    "\n",
    "<!-- OLD SHIT:\n",
    "The gradients are\n",
    "\\begin{equation}\n",
    "    \\nabla W_L=a_{L-1}^T \\delta_L  = a_{h}^T \\delta_L \n",
    "\\end{equation}\n",
    "\\begin{equation}\n",
    "\\end{equation}\n",
    "but for our only hidden layer we have\n",
    "\\begin{equation}\n",
    "    \\nabla W_h = X^T\\delta_h\n",
    "\\end{equation}\n",
    "and the gradients for the biases will be\n",
    "\\begin{align}\n",
    "    \\nabla b_L &= \\sum_i^{n_{inputs}} \\delta_L\n",
    "    \\\\ \\nabla b_h &= \\sum_i^{n_{inputs}} \\delta_h\n",
    "\\end{align}\n",
    "\n",
    "The expression we need to now calculate is  the expression for the output error $\\delta_L$:\n",
    "\n",
    "We differentiate the cost function with regards to the activation of the output layer $a_L$ and get:\n",
    "\\begin{align*}\n",
    "    \\frac{\\partial C}{\\partial a_L} &= -\\frac{\\partial}{\\partial a_L}(t \\ln(a_L) + (1-t)\\ln(1-a_L))\n",
    "    \\\\ &= -(\\frac{t_}{a_L} + \\frac{1-t_}{1-a_L}(-1))\n",
    "    \\\\ &= \\frac{1-t_}{1-a_L} - \\frac{t_}{a_L}\n",
    "    \\\\ &= \\frac{a_L(1-t_)}{a_L(1-a_L)} - \\frac{t_(1-a_L)}{a_L(1-a_L)}\n",
    "    \\\\ &= \\underline{\\frac{a_L-t_}{a_L(1-a_L)}}\n",
    "\\end{align*}\n",
    "\n",
    "The expression for the output error $\\delta_L$ is \n",
    "\n",
    "\\begin{equation}\n",
    "    \\delta_i^L = \\sigma'(z_i^L)\\frac{\\partial C}{\\partial a_i^L}\n",
    "\\end{equation}\n",
    "\n",
    "where $\\sigma$ is our Sigmoid function, we can differentiate it to be\n",
    "\n",
    "\\begin{equation}\n",
    "    \\sigma'(x) = \\frac{e^{-x}}{(1+e^{-x})^2}\n",
    "\\end{equation}\n",
    "which gives the following when putting in $a_i^L=\\sigma(a_i^L)=1/(1+e^{-z_i^L})$:\n",
    "\\begin{gather*}\n",
    "    \\sigma'(z_i^L) &= \\frac{e^{-z_i^L}}{(1+e^{-z_i^L})^2}\n",
    "    \\\\ &= \\left( \\frac{1}{a_i^L} - 1 \\right) (a_i^L)^2\n",
    "    \\\\ &= \\underline{a_i^L(1-a_i^L)}\n",
    "\\end{gather*}\n",
    "\n",
    "which gives \n",
    "\\begin{align*}\n",
    "    \\delta_L &= a_L(1-a_L)\\ \\frac{a_L-t}{a_L(1-a_L)}\n",
    "    \\\\ &= \\underline{a_L-t}\n",
    "\\end{align*}\n",
    "-->\n",
    "\n"
   ],
   "metadata": {
    "collapsed": false
   },
   "id": "318e19592a808453"
  },
  {
   "cell_type": "markdown",
   "source": [
    "For the general layer $l$ error $\\delta^l$ we want to write it as a function of the previous layer's $\\delta^{l+1}$ so we can back propagate beginning from the output layer. By replacing $L$ with $l$ and using the chain rule and summing over all entries $j$ we can write this out as\n",
    "\\begin{align*}\n",
    "    \\delta_i^l &= \\frac{\\partial C}{\\partial z_i^l} \n",
    "    \\\\ &= \\sum_{j} \\frac{\\partial C}{\\partial z_j^{l+1}} \\frac{\\partial z_j^{l+1}}{\\partial z_i^l}\n",
    "    \\\\ &= \\sum_{j} \\delta_j^{l+1}\\frac{\\partial z_j^{l+1}}{\\partial z_i^l}\n",
    "\\end{align*}\n",
    "\n",
    "for this derivative we again use our definition which gives $z_i^{l+1} = \\sum_j w_{ij}^{l+1}a_j^l + b_i^{l+1}$, therefore we get\n",
    "\\begin{align*}\n",
    "     &= \\sum_{j} \\delta_j^{l+1} w_{ij}^{l+1} \\frac{\\partial a_j^l}{\\partial z_i^l}\n",
    "     \\\\ &= \\sum_{j} \\delta_j^{l+1} w_{ij}^{l+1} \\sigma'(z_i^l)\n",
    "     \\\\ &= \\underline{\\sum_{j} \\delta_j^{l+1} w_{ij}^{l+1} a_i^l (1-a_i^l)}\n",
    "\\end{align*}\n",
    "\n",
    "or in matrix notation as \n",
    "\\begin{equation}\n",
    "    \\boldsymbol{\\delta}^l = \\boldsymbol{\\delta}^{l+1} (\\mathbf{W}^{l+1})^T \\odot a^l \\odot (1-a^l)\n",
    "\\end{equation}\n",
    "\n",
    "where $\\odot$ is the $\\textit{Hadamard product}$ which means element-wise multiplication.\n",
    "\n",
    "The weights gradient will then be\n",
    "\\begin{equation}\n",
    "    \\nabla \\mathbf{W}^l = (\\mathbf{a}^{l-1})^T \\boldsymbol{\\delta}^l\n",
    "\\end{equation}\n",
    "\n",
    "And again for the first layer we will just have the design matrix:\n",
    "\\begin{equation}\n",
    "    \\nabla \\mathbf{W}^{l=1} = (\\mathbf{X})^T \\boldsymbol{\\delta}^{l=1}\n",
    "\\end{equation}"
   ],
   "metadata": {
    "collapsed": false
   },
   "id": "30ff46c87fb2ec28"
  },
  {
   "cell_type": "markdown",
   "source": [
    "We do the same updating the bias, we find the gradient from the derivative \n",
    "\\begin{align*}\n",
    "    \\nabla b_{i}^L = \\frac{\\partial C}{\\partial b^L_{i}} &= \\frac{\\partial C}{\\partial a^L_i} \\frac{\\partial a^L_i}{\\partial b^L_{i}}\n",
    "    \\\\ &= \\frac{\\partial C}{\\partial a^L_i} \\frac{\\partial a^L_i}{\\partial z^L_{i}} \\frac{\\partial z^L_{i}}{\\partial b^L_{i}}\n",
    "    \\\\ &= \\delta_i^L \\frac{\\partial z^L_{i}}{\\partial b^L_{i}}\n",
    "\\end{align*}\n",
    "we only need to find the third derivate which, again from $z^L_i = \\sum_j \\left( w^L_{ij}a^{L-1}_j + b^L_i\\right)$, will be\n",
    "\n",
    "\\begin{align*}\n",
    "    \\frac{\\partial z^L_{i}}{\\partial b^L_{i}} = 1\n",
    "\\end{align*}\n",
    "\n",
    "such that the bias gradient is easily\n",
    " \\begin{align*}\n",
    "    \\nabla b_{i}^L = \\delta_i^L\n",
    "\\end{align*}\n",
    "\n",
    "or in matrix notification as\n",
    "\\begin{equation}\n",
    "    \\nabla \\mathbf{b}^L = \\sum_{i=1}^{n_{inputs}} \\boldsymbol{\\delta}^L\n",
    "\\end{equation}\n",
    "\n",
    "and the same for the general layer $l$ we get\n",
    "\\begin{equation}\n",
    "    \\nabla \\mathbf{b}^l = \\sum_{i=1}^{n_{inputs}} \\boldsymbol{\\delta}^l\n",
    "\\end{equation}\n"
   ],
   "metadata": {
    "collapsed": false
   },
   "id": "b1895ce78d66b63e"
  },
  {
   "cell_type": "markdown",
   "source": [
    "### Implementing the analytical expressions needed"
   ],
   "metadata": {
    "collapsed": false
   },
   "id": "22b9ceb4c4eceaaa"
  },
  {
   "cell_type": "markdown",
   "source": [],
   "metadata": {
    "collapsed": false
   },
   "id": "234c7edc39158a7b"
  },
  {
   "cell_type": "code",
   "execution_count": 7,
   "outputs": [],
   "source": [
    "def analytic_error_L(target, a):\n",
    "    \"\"\"Analytical expression for output layer error\"\"\"\n",
    "    return a - target\n",
    "\n",
    "\n",
    "def dfdx(a):\n",
    "    \"\"\"Rewritten expression of the derivative for the sigmoid function\"\"\"\n",
    "    return a * (1 - a)"
   ],
   "metadata": {
    "collapsed": false,
    "ExecuteTime": {
     "end_time": "2023-10-27T11:56:00.048770Z",
     "start_time": "2023-10-27T11:56:00.044616900Z"
    }
   },
   "id": "9a0522f0ec9e0982"
  },
  {
   "cell_type": "markdown",
   "source": [
    "### Exploring automatic differentiation for the error calculation\n",
    "We use \n",
    "\\begin{align*}\n",
    "    \\delta_i^L &\\equiv  \\frac{\\partial C}{z_i^L} &= \\frac{\\partial C}{\\partial a^L_i} \\frac{\\partial a^L_i}{\\partial z^L_{i}}\n",
    "    \\\\ &= \\frac{\\partial C}{\\partial a^L_i} \\sigma'(z_i^L)\n",
    "    \\\\ &= \\frac{\\partial C}{\\partial a^L_i} a_i^L (1-a_i^L)\n",
    "\\end{align*}\n",
    "and to potentially save analytical calculation time we try to use automatic differentiation on the cost function to get the derivative to find the error:"
   ],
   "metadata": {
    "collapsed": false
   },
   "id": "129570a9ac436d4c"
  },
  {
   "cell_type": "code",
   "execution_count": 8,
   "outputs": [
    {
     "name": "stdout",
     "output_type": "stream",
     "text": [
      "[[ 0.50662492]\n",
      " [-0.4252487 ]\n",
      " [-0.46931083]\n",
      " [-0.39955287]]\n",
      "\n",
      "[[ 0.50662494]\n",
      " [-0.42524868]\n",
      " [-0.46931082]\n",
      " [-0.39955288]]\n"
     ]
    }
   ],
   "source": [
    "def automatic_error_L(target, a):\n",
    "    \"\"\"Output layer error using automatic differentiation with Jax.\"\"\"\n",
    "    dCda_L = grad(cost_log_reg(target))\n",
    "    return dCda_L(a) * dfdx(a)\n",
    "\n",
    "\n",
    "# Compare analytical vs automatic error with target predictions\n",
    "print(analytic_error_L(target, probabilities))\n",
    "print()\n",
    "print(automatic_error_L(target, probabilities))"
   ],
   "metadata": {
    "collapsed": false,
    "ExecuteTime": {
     "end_time": "2023-10-27T11:56:00.251507Z",
     "start_time": "2023-10-27T11:56:00.047772900Z"
    }
   },
   "id": "6a50c579cef65872"
  },
  {
   "cell_type": "markdown",
   "source": [
    "We see they give the same results, so we could potentially save time if we hadn't already did the calculations. In the rest of the code we will just use the analytical expression since it is faster than using automatic differentiation each run:"
   ],
   "metadata": {
    "collapsed": false
   },
   "id": "871b67c3caada094"
  },
  {
   "cell_type": "markdown",
   "source": [
    "### Back propagation\n",
    "Since we only have one hidden layer we need to propogate only once from the output layer to the first hidden layer"
   ],
   "metadata": {
    "collapsed": false
   },
   "id": "5dc14ab235c1c487"
  },
  {
   "cell_type": "code",
   "execution_count": 9,
   "outputs": [],
   "source": [
    "def back_propagate(X, target):\n",
    "    \"\"\"Back propagation algorithm for one hidden layer\"\"\"\n",
    "    a_h, probabilities = feed_forward(X)\n",
    "\n",
    "    # Output layer error delta^L using analytical expression\n",
    "    error_o = analytic_error_L(target, probabilities)\n",
    "\n",
    "    # Hidden layer error delta^1\n",
    "    error_h = error_o @ output_weights.T * dfdx(a_h)\n",
    "\n",
    "    # Gradients for the hidden layer\n",
    "    hidden_weights_gradient = X.T @ error_h\n",
    "    hidden_bias_gradient = np.sum(error_h, axis=0)\n",
    "\n",
    "    # Gradients for the output layer\n",
    "    output_weights_gradient = a_h.T @ error_o\n",
    "    output_bias_gradient = np.sum(error_o, axis=0)\n",
    "\n",
    "    return hidden_weights_gradient, hidden_bias_gradient, output_weights_gradient, output_bias_gradient\n",
    "\n",
    "\n",
    "def reset():\n",
    "    \"\"\"Resets hidden layer's and output layer's weights and biases to random values\"\"\"\n",
    "    # Weights and bias in the hidden layer\n",
    "    global hidden_weights, hidden_bias\n",
    "    hidden_weights = rng.standard_normal((n_features, n_hidden_nodes))  # weights normally distributed\n",
    "    hidden_bias = np.zeros(n_hidden_nodes) + 0.01\n",
    "\n",
    "    # Weights and bias in the output layer\n",
    "    global output_weights, output_bias\n",
    "    output_weights = rng.standard_normal((n_hidden_nodes, n_categories))  # weights normally distributed\n",
    "    output_bias = np.zeros(n_categories) + 0.01"
   ],
   "metadata": {
    "collapsed": false,
    "ExecuteTime": {
     "end_time": "2023-10-27T11:56:00.252503900Z",
     "start_time": "2023-10-27T11:56:00.246694800Z"
    }
   },
   "id": "5bb7c334b5bfe1cc"
  },
  {
   "cell_type": "markdown",
   "source": [
    "### Training the neural network until convergence\n",
    "We use the gradients from the back propagation algorithm, then we update the weights and biases with the learning rate $\\eta$. We also add a regularization hyperparameter $\\lambda$ to hopefully improve performance. We do a convergence check on all weights and biases to stop the training.\n",
    "\n",
    "Here we use plain gradient descent with fixed learning rate for updating the weights and biases."
   ],
   "metadata": {
    "collapsed": false
   },
   "id": "1e514c3db4789bba"
  },
  {
   "cell_type": "code",
   "execution_count": 10,
   "outputs": [],
   "source": [
    "def train(X, target, eta, lmbd, max_epochs=1000, abs_tol=1e-5, prnt=True):\n",
    "    \"\"\"Trains the neural network by back propagation until convergence with a given tolerance or until a max number of epoch iterations.\"\"\"\n",
    "    w_h = hidden_weights\n",
    "    b_h = hidden_bias\n",
    "    w_o = output_weights\n",
    "    b_o = output_bias\n",
    "    \n",
    "    for i in range(max_epochs):\n",
    "        # Feed forward and back propagate to get all gradients for each epoch\n",
    "        dW_h, dB_h, dW_o, dB_o = back_propagate(X, target)\n",
    "\n",
    "        # Regularization term\n",
    "        dW_h += lmbd * w_h\n",
    "        dW_o += lmbd * w_o\n",
    "\n",
    "        # Get total changes for convergence check\n",
    "        change_w_h = eta * dW_h\n",
    "        change_b_h = eta * dB_h\n",
    "        change_w_o = eta * dW_o\n",
    "        change_b_o = eta * dB_o\n",
    "\n",
    "        # Convergence check: check if epoch changes are small enough\n",
    "        if all(\n",
    "                (\n",
    "                        np.all(abs(change_w_h) <= abs_tol),\n",
    "                        np.all(abs(change_b_h) <= abs_tol),\n",
    "                        np.all(abs(change_w_o) <= abs_tol),\n",
    "                        np.all(abs(change_b_o) <= abs_tol)\n",
    "                )\n",
    "        ):\n",
    "            if prnt:\n",
    "                print(f\"Training converged after {i} epochs.\\n\")\n",
    "            return\n",
    "\n",
    "        # Update weights and biases\n",
    "        w_h -= change_w_h\n",
    "        b_h -= change_b_h\n",
    "        w_o -= change_w_o\n",
    "        b_o -= change_b_o\n",
    "\n",
    "    if prnt:\n",
    "        print(f\"Training did not converge after {max_epochs=}.\\n\")"
   ],
   "metadata": {
    "collapsed": false,
    "ExecuteTime": {
     "end_time": "2023-10-27T11:56:00.260612600Z",
     "start_time": "2023-10-27T11:56:00.254498700Z"
    }
   },
   "id": "54cbc0df5b4c8b9c"
  },
  {
   "cell_type": "markdown",
   "source": [
    "### Finding the best combination of hyperparameters by grid search\n",
    "I want to find the best combination of the hyperparameters $\\eta$ and $\\lambda$. For this I plot the prediction accuracy score as a function of the two hyperparameters as a seaborn heatmap plot."
   ],
   "metadata": {
    "collapsed": false
   },
   "id": "74abed9a40fc46b5"
  },
  {
   "cell_type": "code",
   "execution_count": 11,
   "outputs": [
    {
     "data": {
      "text/plain": "<Figure size 640x480 with 2 Axes>",
      "image/png": "[encoded data removed]"
     },
     "metadata": {},
     "output_type": "display_data"
    }
   ],
   "source": [
    "# Parameters\n",
    "eta_vals = np.array([0.01, 0.05, 0.1, 0.5, 0.9])  # learning rates\n",
    "lmbd_vals = np.logspace(-5, 0, 6) # regularization rates\n",
    "target = yXOR  # choose which target gate to train on [yOR / yAND / yXOR]\n",
    "n_epochs = 100  # epochs for training\n",
    "\n",
    "# Iterate through parameters -> train -> save accuracy score to heatmap\n",
    "accuracy = np.zeros((eta_vals.size, lmbd_vals.size))\n",
    "for i, eta in enumerate(eta_vals):\n",
    "    for j, lmbd in enumerate(lmbd_vals):\n",
    "        for k in range(n_epochs):\n",
    "            reset()\n",
    "            train(X, target, eta, lmbd, max_epochs=1000, prnt=False)\n",
    "            prediction = predict(feed_forward(X)[-1])\n",
    "            accuracy[i, j] = accuracy_score(target, prediction)\n",
    "\n",
    "# Accuracy score heatmap\n",
    "sns.heatmap(\n",
    "        accuracy,\n",
    "        annot=True,\n",
    "        fmt=\".2f\",\n",
    "        xticklabels=[f\"{lmbd:g}\" for lmbd in lmbd_vals],\n",
    "        yticklabels=[f\"{eta:g}\" for eta in eta_vals],\n",
    "        cbar_kws={\"label\": \"Accuracy score\"},\n",
    "        # cmap=\"RdBu\",\n",
    "        cmap=\"viridis\",\n",
    ")\n",
    "plt.title(f\"Prediction accuracy with max {n_epochs} epochs\")\n",
    "plt.xlabel(\"$\\lambda$\")\n",
    "plt.ylabel(\"$\\eta$\");"
   ],
   "metadata": {
    "collapsed": false,
    "ExecuteTime": {
     "end_time": "2023-10-27T11:58:27.583322Z",
     "start_time": "2023-10-27T11:56:00.261576400Z"
    }
   },
   "id": "9bbe7dd618326b92"
  },
  {
   "cell_type": "markdown",
   "source": [
    "We see that we have perfect accuracy for multiple parameter combinations, which we would then pick for further usage."
   ],
   "metadata": {
    "collapsed": false
   },
   "id": "61fd2eae19004f27"
  },
  {
   "cell_type": "markdown",
   "source": [
    "### Training with the best hyperparameters"
   ],
   "metadata": {
    "collapsed": false
   },
   "id": "5040596cc27d627f"
  },
  {
   "cell_type": "code",
   "execution_count": 17,
   "outputs": [
    {
     "name": "stdout",
     "output_type": "stream",
     "text": [
      "Training did not converge after max_epochs=1000.\n",
      "\n",
      "After training:\n",
      "Output weights and bias:\n",
      "[[-0.4238122 ]\n",
      " [ 0.05066566]]\n",
      "[0.19669078]\n",
      "\n",
      "Hidden weights and bias:\n",
      "[[ 0.35588362 -0.68269386]\n",
      " [-0.01992184  0.37134331]]\n",
      "[-0.10493748 -0.06005076]\n",
      "\n",
      "Target:\n",
      "[[0]\n",
      " [1]\n",
      " [1]\n",
      " [0]]\n",
      "\n",
      "Probabilities:\n",
      "[[0.50511616]\n",
      " [0.50680983]\n",
      " [0.49366775]\n",
      " [0.49527441]]\n",
      "\n",
      "Prediction:\n",
      "[[1]\n",
      " [1]\n",
      " [0]\n",
      " [0]]\n",
      "\n",
      "Accuracy score of prediction:\n",
      "0.5\n"
     ]
    }
   ],
   "source": [
    "# Parameters\n",
    "eta = 0.1  # learning rate\n",
    "lmbd = 0.001  # regularization rate\n",
    "target = yXOR  # choose which target gate to train on [yOR / yAND / yXOR]\n",
    "n_epochs = 1000  # max no. epochs for training\n",
    "\n",
    "reset()\n",
    "train(X, target, eta, lmbd, max_epochs=n_epochs)\n",
    "\n",
    "print(\"After training:\")\n",
    "print(\"Output weights and bias:\")\n",
    "print(output_weights)\n",
    "print(output_bias)\n",
    "\n",
    "print(\"\\nHidden weights and bias:\")\n",
    "print(hidden_weights)\n",
    "print(hidden_bias)\n",
    "\n",
    "print(\"\\nTarget:\")\n",
    "print(target)\n",
    "\n",
    "print(\"\\nProbabilities:\")\n",
    "probabilities = feed_forward(X)[-1]\n",
    "print(probabilities)\n",
    "\n",
    "print(\"\\nPrediction:\")\n",
    "prediction = predict(probabilities)\n",
    "print(prediction)\n",
    "\n",
    "print(\"\\nAccuracy score of prediction:\")\n",
    "print(accuracy_score(target, prediction))"
   ],
   "metadata": {
    "collapsed": false,
    "ExecuteTime": {
     "end_time": "2023-10-27T11:59:15.492123500Z",
     "start_time": "2023-10-27T11:59:15.419347300Z"
    }
   },
   "id": "3cdf63d95242ef99"
  },
  {
   "cell_type": "markdown",
   "source": [
    "We get the correct prediction for all three types of gates for almost every run, sometimes the accuracy score is lower only for the XOR-gate. Change the target gate variable to see other gates."
   ],
   "metadata": {
    "collapsed": false
   },
   "id": "d6a019c546575ca"
  },
  {
   "cell_type": "markdown",
   "source": [
    "### Comparing with Sckit-Learn\n",
    "I do the exact same grid search analysis, but using Scikit-learns MLPClassifier"
   ],
   "metadata": {
    "collapsed": false
   },
   "id": "8f0e16739a2f8087"
  },
  {
   "cell_type": "code",
   "execution_count": 13,
   "outputs": [
    {
     "data": {
      "text/plain": "<Figure size 640x480 with 2 Axes>",
      "image/png": "[encoded data removed]"
     },
     "metadata": {},
     "output_type": "display_data"
    }
   ],
   "source": [
    "# Parameters\n",
    "eta_vals = np.array([0.01, 0.05, 0.1, 0.5, 0.9])  # learning rates\n",
    "lmbd_vals = np.logspace(-5, 0, 6) # regularization rates\n",
    "target = yXOR  # choose which target gate to train on [yOR / yAND / yXOR]\n",
    "n_epochs = 100  # epochs for training\n",
    "\n",
    "# Iterate through parameters -> train -> save accuracy score to heatmap\n",
    "accuracy = np.zeros((eta_vals.size, lmbd_vals.size))\n",
    "for i, eta in enumerate(eta_vals):\n",
    "    for j, lmbd in enumerate(lmbd_vals):\n",
    "        for k in range(n_epochs):\n",
    "            model = MLPClassifier(hidden_layer_sizes=n_hidden_nodes, activation='logistic',\n",
    "                                  alpha=lmbd, learning_rate_init=eta, max_iter=n_epochs)\n",
    "            model.fit(X, yXOR.ravel())\n",
    "            prediction = model.predict(X)\n",
    "            accuracy[i, j] = accuracy_score(target, prediction)\n",
    "\n",
    "# Accuracy score heatmap\n",
    "sns.heatmap(\n",
    "        accuracy,\n",
    "        annot=True,\n",
    "        fmt=\".2f\",\n",
    "        xticklabels=[f\"{lmbd:g}\" for lmbd in lmbd_vals],\n",
    "        yticklabels=[f\"{eta:g}\" for eta in eta_vals],\n",
    "        cbar_kws={\"label\": \"Accuracy score\"},\n",
    "        # cmap=\"RdBu\",\n",
    "        cmap=\"viridis\",\n",
    ")\n",
    "plt.title(f\"Scikit-learn prediction accuracy with max {n_epochs} epochs\")\n",
    "plt.xlabel(r\"$\\lambda$\")\n",
    "plt.ylabel(r\"$\\eta$\");"
   ],
   "metadata": {
    "collapsed": false,
    "ExecuteTime": {
     "end_time": "2023-10-27T11:59:03.788124300Z",
     "start_time": "2023-10-27T11:58:27.662343700Z"
    }
   },
   "id": "f423286960ff3724"
  },
  {
   "cell_type": "markdown",
   "source": [
    "Comparing the two heatmaps we see the scikit-learn's implementation has much better accuracy. This is because it uses the ADAM gradient descent method. "
   ],
   "metadata": {
    "collapsed": false
   },
   "id": "99684a1daccceb28"
  },
  {
   "cell_type": "markdown",
   "source": [],
   "metadata": {
    "collapsed": false
   },
   "id": "4e2b2f706db7f707"
  }
 ],
 "metadata": {
  "kernelspec": {
   "display_name": "Python 3",
   "language": "python",
   "name": "python3"
  },
  "language_info": {
   "codemirror_mode": {
    "name": "ipython",
    "version": 2
   },
   "file_extension": ".py",
   "mimetype": "text/x-python",
   "name": "python",
   "nbconvert_exporter": "python",
   "pygments_lexer": "ipython2",
   "version": "2.7.6"
  }
 },
 "nbformat": 4,
 "nbformat_minor": 5
}
