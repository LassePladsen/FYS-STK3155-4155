{
 "cells": [
  {
   "cell_type": "markdown",
   "source": [
    "# Exercises week 43 and 44\n",
    "### The OR, AND, and XOR gates\n",
    "\n",
    "We have two input values $x_1$ and $x_2$ which decide the output from the two types of gates. Since each input value can be either 0 or 1 we can write the input as a design matrix $X$ where the first and second column represents $x_1$ and $x_2$ respectively as:\n",
    "$$X = \\begin{bmatrix} 0 & 0 \\\\ 0 & 1 \\\\ 1 & 0 \\\\ 1 & 1 \\end{bmatrix}$$\n",
    "\n",
    "The output $y$ for the different gates we can write as the vectors $y^T=[0, 1,1,1]$ for the OR gate, $y^T=[0,0,0,1]$ for the AND gate, and $y^T=[0, 1, 1, 0]$ for the XOR gate. We setup this matrix and these vectors:\n"
   ],
   "metadata": {
    "collapsed": false
   },
   "id": "bf257eb40befa320"
  },
  {
   "cell_type": "code",
   "execution_count": 27,
   "outputs": [],
   "source": [
    "import numpy as np\n",
    "import jax.numpy as jnp\n",
    "from jax import grad\n",
    "\n",
    "# Set up design matrix and output vectors\n",
    "X = np.asarray([\n",
    "    [0, 0],\n",
    "    [0, 1],\n",
    "    [1, 0],\n",
    "    [1, 1]\n",
    "])\n",
    "\n",
    "# Gate target arrays\n",
    "yOR = np.asarray([0, 1, 1, 1]).reshape(-1, 1)\n",
    "yAND = np.asarray([0, 0, 0, 1]).reshape(-1, 1)\n",
    "yXOR = np.asarray([0, 1, 1, 0]).reshape(-1, 1)"
   ],
   "metadata": {
    "collapsed": false,
    "ExecuteTime": {
     "end_time": "2023-10-26T13:39:22.671168600Z",
     "start_time": "2023-10-26T13:39:22.620128900Z"
    }
   },
   "id": "58160402d5f28b1c"
  },
  {
   "cell_type": "markdown",
   "source": [
    "We create our NN architecture with the Sigmoid function $\\sigma$ as activation function where\n",
    "\\begin{equation}\n",
    "    \\sigma(x) = \\frac{1}{1+e^{-x}}\n",
    "\\end{equation}\n",
    "as such"
   ],
   "metadata": {
    "collapsed": false
   },
   "id": "40a26ec520420a39"
  },
  {
   "cell_type": "code",
   "execution_count": 28,
   "outputs": [
    {
     "name": "stdout",
     "output_type": "stream",
     "text": [
      "Before back propagation:\n",
      "\n",
      "Output weights and bias:\n",
      "[[-0.77586755]\n",
      " [ 0.8087058 ]]\n",
      "[0.01]\n",
      "\n",
      "Hidden weights and bias:\n",
      "[[ 0.60172129  1.15161897]\n",
      " [-1.35946236  0.22205533]]\n",
      "[0.01 0.01]\n"
     ]
    }
   ],
   "source": [
    "# Parameters\n",
    "n_hidden_nodes = 2  # hidden nodes per layer\n",
    "n_categories = 1  # output nodes\n",
    "n_inputs, n_features = X.shape  # 2 inputs, 4 features\n",
    "target_gate = \"OR\"  # choose which target gate to train on\n",
    "\n",
    "\n",
    "# Activation function \n",
    "def activation(x):\n",
    "    # Use sigmoid function:\n",
    "    return 1 / (1 + np.exp(-x))\n",
    "\n",
    "\n",
    "# Initialize random number generator with seed\n",
    "rng = np.random.default_rng(2023)\n",
    "\n",
    "# Weights and bias in the hidden layer\n",
    "hidden_weights = rng.standard_normal((n_features, n_hidden_nodes))  # weights normally distributed\n",
    "hidden_bias = np.zeros(n_hidden_nodes) + 0.01\n",
    "\n",
    "# Weights and bias in the output layer\n",
    "output_weights = rng.standard_normal((n_hidden_nodes, n_categories))  # weights normally distributed\n",
    "output_bias = np.zeros(n_categories) + 0.01\n",
    "\n",
    "\n",
    "print(\"Before back propagation:\\n\")\n",
    "print(\"Output weights and bias:\")\n",
    "print(output_weights)\n",
    "print(output_bias)\n",
    "\n",
    "print()\n",
    "print(\"Hidden weights and bias:\")\n",
    "print(hidden_weights)\n",
    "print(hidden_bias)"
   ],
   "metadata": {
    "collapsed": false,
    "ExecuteTime": {
     "end_time": "2023-10-26T13:39:22.674165900Z",
     "start_time": "2023-10-26T13:39:22.625116200Z"
    }
   },
   "id": "cfd0e5879201f65e"
  },
  {
   "cell_type": "markdown",
   "source": [
    "### Feed forward\n",
    "Then we set up the feed forward algorithm and compare one pass with the target vectors $y^T$"
   ],
   "metadata": {
    "collapsed": false
   },
   "id": "90be2689e40d3f08"
  },
  {
   "cell_type": "code",
   "execution_count": 29,
   "outputs": [],
   "source": [
    "# Get the chosen target array\n",
    "if target_gate == \"OR\":\n",
    "    target = yOR\n",
    "elif target_gate == \"AND\":\n",
    "    target = yAND\n",
    "elif target_gate == \"XOR\":\n",
    "    target = yXOR\n",
    "else:\n",
    "    raise ValueError(f\"Target gate not found, got '{target_gate}'.\")"
   ],
   "metadata": {
    "collapsed": false,
    "ExecuteTime": {
     "end_time": "2023-10-26T13:39:22.674165900Z",
     "start_time": "2023-10-26T13:39:22.634095Z"
    }
   },
   "id": "56fac192b81a286c"
  },
  {
   "cell_type": "code",
   "execution_count": 30,
   "outputs": [
    {
     "name": "stdout",
     "output_type": "stream",
     "text": [
      "Target:\n",
      "[[0]\n",
      " [1]\n",
      " [1]\n",
      " [1]]\n",
      "\n",
      "Probabilities:\n",
      "[[0.50662492]\n",
      " [0.5747513 ]\n",
      " [0.53068917]\n",
      " [0.60044713]]\n",
      "\n",
      "Prediction:\n",
      "[[1]\n",
      " [1]\n",
      " [1]\n",
      " [1]]\n"
     ]
    }
   ],
   "source": [
    "def feed_forward(X):\n",
    "    \"\"\"Feed forward algorithm for one hidden layer\"\"\"\n",
    "    # Weighted sum of inputs to the hidden layer\n",
    "    z_h = X @ hidden_weights + hidden_bias\n",
    "\n",
    "    # Activation in the hidden layer\n",
    "    a_h = activation(z_h)\n",
    "\n",
    "    # Weighted sum of inputs to the output layer\n",
    "    z_o = a_h @ output_weights + output_bias\n",
    "\n",
    "    # Activation of output layer; contains the output probabilities\n",
    "    probabilities = activation(z_o)  # this is a_o\n",
    "    return a_h, probabilities\n",
    "\n",
    "\n",
    "@np.vectorize\n",
    "def predict(probability):\n",
    "    \"\"\"Get prediction from array with floats. Step function.\"\"\"\n",
    "    if not isinstance(probability, (int, float)):\n",
    "        raise ValueError(f\"Probability must be a number, int or float. Got {type(probability)}\")\n",
    "    if probability < 0.5:\n",
    "        return 0\n",
    "    else:\n",
    "        return 1\n",
    "\n",
    "\n",
    "# Make prediction and compare with gate target y_vectors\n",
    "a_h, probabilities = feed_forward(X)\n",
    "predictions = predict(probabilities)\n",
    "\n",
    "print(\"Target:\")\n",
    "print(target)\n",
    "\n",
    "print(\"\\nProbabilities:\")\n",
    "print(probabilities)\n",
    "\n",
    "print(\"\\nPrediction:\")\n",
    "print(predictions)"
   ],
   "metadata": {
    "collapsed": false,
    "ExecuteTime": {
     "end_time": "2023-10-26T13:39:22.722178400Z",
     "start_time": "2023-10-26T13:39:22.639465600Z"
    }
   },
   "id": "197d2b7a7bd3be38"
  },
  {
   "cell_type": "markdown",
   "source": [
    "We see this prediction does not match any target. This is because we only did one pass and that was with random starting weights. Now we setup the cost function and the back propagation algorithm.\n"
   ],
   "metadata": {
    "collapsed": false
   },
   "id": "fb88c7ba8f6ff0d"
  },
  {
   "cell_type": "markdown",
   "source": [
    "<!-- \n",
    "For the cost function we use the cross entropy for binary classification given as\n",
    "$$C(\\boldsymbol{\\theta}) = -\\sum_{i=1}^n \\left( y_i \\ln [p(y_i | x_i, \\boldsymbol{\\theta)}] + (1-y_i)\\ln[1-p(y_i | x_i, \\boldsymbol{\\theta)}] \\right)$$\n",
    "\n",
    "where the probabilities $p$ we have from the sigmoid function \n",
    "$$p(y_i=1|x_i, \\boldsymbol{\\theta}) = \\frac{\\exp(\\theta_0 + \\theta_1 x_i)}{1- \\exp(\\theta_0 + \\theta_1 x_i)}$$\n",
    "$$p(y_i=0|x_i, \\boldsymbol{\\theta}) = 1 - p(y_i=1|x_i, \\boldsymbol{\\theta})$$ \n",
    "-->\n",
    "### Cost function\n",
    "\n",
    "For the cost function we use the cross entropy for binary classification given as\n",
    "\\begin{equation}\n",
    "    C(\\boldsymbol{W}) = -\\sum_{i=1}^n \\left( t_i \\log a_i^L + (1-t_i)\\log(1-a_i^L) \\right)\n",
    "\\end{equation}\n",
    "\n",
    "where $t$ is the target and $a^L$ is the final activation from the final/output layer, expressed for a general layer $l$ as:\n",
    "\\begin{equation*}\n",
    "    a_i^l = \\sigma(z_i^l)\n",
    "\\end{equation*}\n",
    "\n",
    "and $z^L$ is the weighted sum of inputs to the output layer, expressed for a general layer $l$ as:\n",
    "\n",
    "\\begin{equation*}\n",
    "    z_i^l = \\sum_j w_{ij}^l a_j^{l-1} + b_i^l\n",
    "\\end{equation*}\n",
    "\n",
    "or in matrix notification:\n",
    "\n",
    "\\begin{equation}\n",
    "    \\mathbf{a}^l = \\sigma(\\mathbf{z}^l)\n",
    "\\end{equation}\n",
    "\n",
    "\\begin{equation}\n",
    "    \\mathbf{z}^l = \\mathbf{W}^l \\mathbf{a}^{l-1} + \\mathbf{b}^l\n",
    "\\end{equation}\n",
    "\n",
    "for the first layer $l=1$ we have the input layer $a^0$ which is just the input design matrix $X$:\n",
    "\\begin{equation}\n",
    "    \\mathbf{z}^{l=1} = \\mathbf{W}^{l=1} \\mathbf{X} + \\mathbf{b}^{l=1}\n",
    "\\end{equation}"
   ],
   "metadata": {
    "collapsed": false
   },
   "id": "b24a0a554fb220f"
  },
  {
   "cell_type": "code",
   "execution_count": 36,
   "outputs": [
    {
     "data": {
      "text/plain": "Array(20.723267, dtype=float32)"
     },
     "execution_count": 36,
     "metadata": {},
     "output_type": "execute_result"
    }
   ],
   "source": [
    "def cost_log_reg(target):\n",
    "    \"\"\"Returns a function for the logistic cross entropy for binary classification / log loss function created using a given target vector.\"\"\"\n",
    "    d = 1e-9  # small value to avoid infinities\n",
    "\n",
    "    def func(a):\n",
    "        return -jnp.sum(\n",
    "                (target * jnp.log(a + d)) + ((1 - target) * jnp.log(1 - a + d))\n",
    "        )\n",
    "\n",
    "    return func\n",
    "\n",
    "\n",
    "cost_func = cost_log_reg(target)\n",
    "cost_func(predictions)"
   ],
   "metadata": {
    "collapsed": false,
    "ExecuteTime": {
     "end_time": "2023-10-26T13:42:04.706318900Z",
     "start_time": "2023-10-26T13:42:04.676415900Z"
    }
   },
   "id": "e46a022e02ed29b"
  },
  {
   "cell_type": "markdown",
   "source": [
    "### Calculating the analytical gradients for back propagation\n",
    "\n",
    "To find the change/gradient for the values we need to update by doing back propagation we need to differentiate our cost function with regards to what we want to update. Firstly we will update the weights, and since we want to start at the output layer and move backwards into the hidden layers we start by differentiate with regards to the weights in the output layer $w^L$. Using the chain rule we can start to write it as \n",
    "\n",
    "\\begin{align*}\n",
    "    \\nabla w_{ij}^L = \\frac{\\partial C}{\\partial w^L_{ij}} &= \\frac{\\partial C}{\\partial a^L_i} \\frac{\\partial a^L_i}{\\partial w^L_{ij}}\n",
    "    \\\\ &= \\frac{\\partial C}{\\partial a^L_i} \\frac{\\partial a^L_i}{\\partial z^L_{i}} \\frac{\\partial z^L_{i}}{\\partial w^L_{ij}}\n",
    "\\end{align*}\n",
    "\n",
    "We begin by the first derivate by differentiating the cost function as defined above:\n",
    "\n",
    "\\begin{align*}\n",
    "    \\frac{\\partial C}{\\partial a_i^L} &= -\\frac{\\partial}{\\partial a_i^L}(t_i\\ln(a_i^L) + (1-t_i)\\ln(1-a_i^L))\n",
    "    \\\\ &= -(\\frac{t_i}{a_i^L} + \\frac{1-t_i}{1-a_i^L}(-1))\n",
    "    \\\\ &= \\frac{1-t_i}{1-a_i^L} - \\frac{t_i}{a_i^L}\n",
    "    \\\\ &= \\frac{a_i^L(1-t_i)}{a_i^L(1-a_i^L)} - \\frac{t_i(1-a_i^L)}{a_i^L(1-a_i^L)}\n",
    "    \\\\ &= \\underline{\\frac{a_i^L-t_i}{a_i^L(1-a_i^L)}}\n",
    "\\end{align*}\n",
    "\n",
    "for the second derivate we differentiate $a^L_i=\\sigma(z_i^L)$ and get\n",
    "\n",
    "\\begin{align*}\n",
    "    \\frac{\\partial a^L_i}{\\partial z^L_{i}} &= \\sigma'(z_i^L)\n",
    "    \\\\ &= \\frac{\\partial}{\\partial z^L_{i}} \\left( \\frac{1}{1+\\exp(-z_i^L)} \\right)\n",
    "    \\\\ &= \\frac{0-[-\\exp(-z_i^L)] }{(1+\\exp(-z_i^L))^2}\n",
    "    \\\\ &= \\frac{\\exp({-z_i^L})}{(1+\\exp({-z_i^L}))^2}\n",
    "\\end{align*}\n",
    "\n",
    "this can be rewritten more nicely by again using the above expression for $a_i^L=\\frac{1}{1+\\exp(-z_i^L)}$, which gives $\\exp(-z_i^L)=\\frac{1}{a_i^L} - 1$. We can substitute the denominator with $a_i^L$ and the numerator with $\\frac{1}{a_i^L} - 1$ and get\n",
    "\n",
    "\\begin{align*}\n",
    "    &= (\\frac{1}{a_i^L} - 1)(a_i^L)^2\n",
    "    \\\\ &= \\underline{a_i^L (1-a_i^L)}\n",
    "\\end{align*}\n",
    "\n",
    "for the third derivate we differentiate $z^L_i = \\sum_j \\left( w^L_{ij}a^{L-1}_j + b^L_i\\right)$ and get\n",
    "\n",
    "\\begin{align*}\n",
    "   \\frac{\\partial z^L_{i}}{\\partial w^L_{ij}} &= \\frac{\\partial}{\\partial w^L_{ij}} \\left( \\sum_j w^L_{ij}a^{L-1}_j + b^L_i \\right)\n",
    "   \\\\ &= \\underline{a^{L-1}_j}\n",
    "\\end{align*}\n",
    "\n",
    "so our final expression for the gradient is\n",
    "\n",
    "\\begin{align*}\n",
    "    \\nabla w_{ij}^L  &= \\frac{a_i^L-t_i}{a_i^L(1-a_i^L)} a_i^L (1-a_i^L) a^{L-1}_j\n",
    "    \\\\ &= a^{L-1}_j (a_i^L-t_i)\n",
    "\\end{align*}\n",
    "\n",
    "we choose to defined the second part as the output error:\n",
    "\\begin{equation*}  \n",
    "    \\delta_i^L \\equiv  \\frac{\\partial C}{\\partial a^L_i} \\frac{\\partial a^L_i}{\\partial z^L_{i}} = \\frac{\\partial C}{z_i^L} =  a_i^L-t_i\n",
    "\\end{equation*}\n",
    "\n",
    "\n",
    "or using matrix notification we can write these two equations as\n",
    "\n",
    "\\begin{equation}\n",
    "    \\boldsymbol{\\delta}^L = \\mathbf{a}^L-\\mathbf{t}\n",
    "\\end{equation}\n",
    "\n",
    "\\begin{equation}\n",
    "    \\nabla \\mathbf{W}^L = (\\mathbf{a}^{L-1})^T \\boldsymbol{\\delta}^L\n",
    "\\end{equation}\n",
    "\n",
    "\n",
    "\n",
    "\n",
    "\n",
    "\n",
    "\n",
    "\n",
    "<!-- OLD SHIT:\n",
    "The gradients are\n",
    "\\begin{equation}\n",
    "    \\nabla W_L=a_{L-1}^T \\delta_L  = a_{h}^T \\delta_L \n",
    "\\end{equation}\n",
    "\\begin{equation}\n",
    "\\end{equation}\n",
    "but for our only hidden layer we have\n",
    "\\begin{equation}\n",
    "    \\nabla W_h = X^T\\delta_h\n",
    "\\end{equation}\n",
    "and the gradients for the biases will be\n",
    "\\begin{align}\n",
    "    \\nabla b_L &= \\sum_i^{n_{inputs}} \\delta_L\n",
    "    \\\\ \\nabla b_h &= \\sum_i^{n_{inputs}} \\delta_h\n",
    "\\end{align}\n",
    "\n",
    "The expression we need to now calculate is  the expression for the output error $\\delta_L$:\n",
    "\n",
    "We differentiate the cost function with regards to the activation of the output layer $a_L$ and get:\n",
    "\\begin{align*}\n",
    "    \\frac{\\partial C}{\\partial a_L} &= -\\frac{\\partial}{\\partial a_L}(t \\ln(a_L) + (1-t)\\ln(1-a_L))\n",
    "    \\\\ &= -(\\frac{t_}{a_L} + \\frac{1-t_}{1-a_L}(-1))\n",
    "    \\\\ &= \\frac{1-t_}{1-a_L} - \\frac{t_}{a_L}\n",
    "    \\\\ &= \\frac{a_L(1-t_)}{a_L(1-a_L)} - \\frac{t_(1-a_L)}{a_L(1-a_L)}\n",
    "    \\\\ &= \\underline{\\frac{a_L-t_}{a_L(1-a_L)}}\n",
    "\\end{align*}\n",
    "\n",
    "The expression for the output error $\\delta_L$ is \n",
    "\n",
    "\\begin{equation}\n",
    "    \\delta_i^L = \\sigma'(z_i^L)\\frac{\\partial C}{\\partial a_i^L}\n",
    "\\end{equation}\n",
    "\n",
    "where $\\sigma$ is our Sigmoid function, we can differentiate it to be\n",
    "\n",
    "\\begin{equation}\n",
    "    \\sigma'(x) = \\frac{e^{-x}}{(1+e^{-x})^2}\n",
    "\\end{equation}\n",
    "which gives the following when putting in $a_i^L=\\sigma(a_i^L)=1/(1+e^{-z_i^L})$:\n",
    "\\begin{gather*}\n",
    "    \\sigma'(z_i^L) &= \\frac{e^{-z_i^L}}{(1+e^{-z_i^L})^2}\n",
    "    \\\\ &= \\left( \\frac{1}{a_i^L} - 1 \\right) (a_i^L)^2\n",
    "    \\\\ &= \\underline{a_i^L(1-a_i^L)}\n",
    "\\end{gather*}\n",
    "\n",
    "which gives \n",
    "\\begin{align*}\n",
    "    \\delta_L &= a_L(1-a_L)\\ \\frac{a_L-t}{a_L(1-a_L)}\n",
    "    \\\\ &= \\underline{a_L-t}\n",
    "\\end{align*}\n",
    "-->\n",
    "\n"
   ],
   "metadata": {
    "collapsed": false
   },
   "id": "318e19592a808453"
  },
  {
   "cell_type": "markdown",
   "source": [
    "For the general layer $l$ error $\\delta^l$ we want to write it as a function of the previous layer's $\\delta^{l+1}$ so we can back propagate beginning from the output layer. By replacing $L$ with $l$ and using the chain rule and summing over all entries $j$ we can write this out as\n",
    "\\begin{align*}\n",
    "    \\delta_i^l &= \\frac{\\partial C}{\\partial z_i^l} \n",
    "    \\\\ &= \\sum_{j} \\frac{\\partial C}{\\partial z_j^{l+1}} \\frac{\\partial z_j^{l+1}}{\\partial z_i^l}\n",
    "    \\\\ &= \\sum_{j} \\delta_j^{l+1}\\frac{\\partial z_j^{l+1}}{\\partial z_i^l}\n",
    "\\end{align*}\n",
    "\n",
    "for this derivative we again use our definition which gives $z_i^{l+1} = \\sum_j w_{ij}^{l+1}a_j^l + b_i^{l+1}$, therefore we get\n",
    "\\begin{align*}\n",
    "     &= \\sum_{j} \\delta_j^{l+1} w_{ij}^{l+1} \\frac{\\partial a_j^l}{\\partial z_i^l}\n",
    "     \\\\ &= \\sum_{j} \\delta_j^{l+1} w_{ij}^{l+1} \\sigma'(z_i^l)\n",
    "     \\\\ &= \\underline{\\sum_{j} \\delta_j^{l+1} w_{ij}^{l+1} a_i^l (1-a_i^l)}\n",
    "\\end{align*}\n",
    "\n",
    "or in matrix notation as \n",
    "\\begin{equation}\n",
    "    \\boldsymbol{\\delta}^l = \\boldsymbol{\\delta}^{l+1} (\\mathbf{W}^{l+1})^T \\odot a^l \\odot (1-a^l)\n",
    "\\end{equation}\n",
    "\n",
    "where $\\odot$ is the $\\textit{Hadamard product}$ which means element-wise multiplication.\n",
    "\n",
    "The weights gradient will then be\n",
    "\\begin{equation}\n",
    "    \\nabla \\mathbf{W}^l = (\\mathbf{a}^{l-1})^T \\boldsymbol{\\delta}^l\n",
    "\\end{equation}\n",
    "\n",
    "And again for the first layer we will just have the design matrix:\n",
    "\\begin{equation}\n",
    "    \\nabla \\mathbf{W}^{l=1} = (\\mathbf{X})^T \\boldsymbol{\\delta}^{l=1}\n",
    "\\end{equation}"
   ],
   "metadata": {
    "collapsed": false
   },
   "id": "30ff46c87fb2ec28"
  },
  {
   "cell_type": "markdown",
   "source": [
    "We do the same updating the bias, we find the gradient from the derivative \n",
    "\\begin{align*}\n",
    "    \\nabla b_{i}^L = \\frac{\\partial C}{\\partial b^L_{i}} &= \\frac{\\partial C}{\\partial a^L_i} \\frac{\\partial a^L_i}{\\partial b^L_{i}}\n",
    "    \\\\ &= \\frac{\\partial C}{\\partial a^L_i} \\frac{\\partial a^L_i}{\\partial z^L_{i}} \\frac{\\partial z^L_{i}}{\\partial b^L_{i}}\n",
    "    \\\\ &= \\delta_i^L \\frac{\\partial z^L_{i}}{\\partial b^L_{i}}\n",
    "\\end{align*}\n",
    "we only need to find the third derivate which, again from $z^L_i = \\sum_j \\left( w^L_{ij}a^{L-1}_j + b^L_i\\right)$, will be\n",
    "\n",
    "\\begin{align*}\n",
    "    \\frac{\\partial z^L_{i}}{\\partial b^L_{i}} = 1\n",
    "\\end{align*}\n",
    "\n",
    "such that the bias gradient is easily\n",
    " \\begin{align*}\n",
    "    \\nabla b_{i}^L = \\delta_i^L\n",
    "\\end{align*}\n",
    "\n",
    "or in matrix notification as\n",
    "\\begin{equation}\n",
    "    \\nabla \\mathbf{b}^L = \\sum_{i=1}^{n_{inputs}} \\boldsymbol{\\delta}^L\n",
    "\\end{equation}\n",
    "\n",
    "and the same for the general layer $l$ we get\n",
    "\\begin{equation}\n",
    "    \\nabla \\mathbf{b}^l = \\sum_{i=1}^{n_{inputs}} \\boldsymbol{\\delta}^l\n",
    "\\end{equation}\n"
   ],
   "metadata": {
    "collapsed": false
   },
   "id": "b1895ce78d66b63e"
  },
  {
   "cell_type": "markdown",
   "source": [
    "### Implementing the analytical expressions needed"
   ],
   "metadata": {
    "collapsed": false
   },
   "id": "22b9ceb4c4eceaaa"
  },
  {
   "cell_type": "markdown",
   "source": [],
   "metadata": {
    "collapsed": false
   },
   "id": "234c7edc39158a7b"
  },
  {
   "cell_type": "code",
   "execution_count": 32,
   "outputs": [],
   "source": [
    "def analytic_error_L(target):\n",
    "    \"\"\"Returns function for the analytical expression for output layer error\"\"\"\n",
    "\n",
    "    def func(a):\n",
    "        return a - target\n",
    "\n",
    "    return func\n",
    "\n",
    "analy_err = analytic_error_L(target)"
   ],
   "metadata": {
    "collapsed": false,
    "ExecuteTime": {
     "end_time": "2023-10-26T13:39:22.724173Z",
     "start_time": "2023-10-26T13:39:22.659187300Z"
    }
   },
   "id": "9a0522f0ec9e0982"
  },
  {
   "cell_type": "markdown",
   "source": [
    "### Using automatic differentiation for the gradient"
   ],
   "metadata": {
    "collapsed": false
   },
   "id": "129570a9ac436d4c"
  },
  {
   "cell_type": "code",
   "execution_count": 33,
   "outputs": [
    {
     "name": "stdout",
     "output_type": "stream",
     "text": [
      "[[ 0.50662492]\n",
      " [-0.4252487 ]\n",
      " [-0.46931083]\n",
      " [-0.39955287]]\n"
     ]
    },
    {
     "ename": "TracerArrayConversionError",
     "evalue": "The numpy.ndarray conversion method __array__() was called on traced array with shape float32[4,1].\nSee https://jax.readthedocs.io/en/latest/errors.html#jax.errors.TracerArrayConversionError",
     "output_type": "error",
     "traceback": [
      "\u001B[1;31m---------------------------------------------------------------------------\u001B[0m",
      "\u001B[1;31mTracerArrayConversionError\u001B[0m                Traceback (most recent call last)",
      "Cell \u001B[1;32mIn[33], line 21\u001B[0m\n\u001B[0;32m     19\u001B[0m \u001B[38;5;28mprint\u001B[39m(analy_err(probabilities))\n\u001B[0;32m     20\u001B[0m \u001B[38;5;28mprint\u001B[39m()\n\u001B[1;32m---> 21\u001B[0m \u001B[38;5;28mprint\u001B[39m(\u001B[43mauto_err\u001B[49m\u001B[43m(\u001B[49m\u001B[43mprobabilities\u001B[49m\u001B[43m)\u001B[49m)\n",
      "Cell \u001B[1;32mIn[33], line 12\u001B[0m, in \u001B[0;36mautomatic_error_L.<locals>.func\u001B[1;34m(a)\u001B[0m\n\u001B[0;32m     11\u001B[0m \u001B[38;5;28;01mdef\u001B[39;00m \u001B[38;5;21mfunc\u001B[39m(a):\n\u001B[1;32m---> 12\u001B[0m     \u001B[38;5;28;01mreturn\u001B[39;00m dfdx(a) \u001B[38;5;241m*\u001B[39m \u001B[43mdCda_L\u001B[49m\u001B[43m(\u001B[49m\u001B[43ma\u001B[49m\u001B[43m)\u001B[49m\n",
      "    \u001B[1;31m[... skipping hidden 10 frame]\u001B[0m\n",
      "Cell \u001B[1;32mIn[31], line 6\u001B[0m, in \u001B[0;36mcost_log_reg.<locals>.func\u001B[1;34m(z)\u001B[0m\n\u001B[0;32m      5\u001B[0m \u001B[38;5;28;01mdef\u001B[39;00m \u001B[38;5;21mfunc\u001B[39m(z):\n\u001B[1;32m----> 6\u001B[0m     a \u001B[38;5;241m=\u001B[39m \u001B[43mactivation\u001B[49m\u001B[43m(\u001B[49m\u001B[43mz\u001B[49m\u001B[43m)\u001B[49m\n\u001B[0;32m      7\u001B[0m     \u001B[38;5;28;01mreturn\u001B[39;00m \u001B[38;5;241m-\u001B[39mjnp\u001B[38;5;241m.\u001B[39msum(\n\u001B[0;32m      8\u001B[0m             (target \u001B[38;5;241m*\u001B[39m jnp\u001B[38;5;241m.\u001B[39mlog(a \u001B[38;5;241m+\u001B[39m d)) \u001B[38;5;241m+\u001B[39m ((\u001B[38;5;241m1\u001B[39m \u001B[38;5;241m-\u001B[39m target) \u001B[38;5;241m*\u001B[39m jnp\u001B[38;5;241m.\u001B[39mlog(\u001B[38;5;241m1\u001B[39m \u001B[38;5;241m-\u001B[39m a \u001B[38;5;241m+\u001B[39m d))\n\u001B[0;32m      9\u001B[0m     )\n",
      "Cell \u001B[1;32mIn[28], line 11\u001B[0m, in \u001B[0;36mactivation\u001B[1;34m(x)\u001B[0m\n\u001B[0;32m      9\u001B[0m \u001B[38;5;28;01mdef\u001B[39;00m \u001B[38;5;21mactivation\u001B[39m(x):\n\u001B[0;32m     10\u001B[0m     \u001B[38;5;66;03m# Use sigmoid function:\u001B[39;00m\n\u001B[1;32m---> 11\u001B[0m     \u001B[38;5;28;01mreturn\u001B[39;00m \u001B[38;5;241m1\u001B[39m \u001B[38;5;241m/\u001B[39m (\u001B[38;5;241m1\u001B[39m \u001B[38;5;241m+\u001B[39m \u001B[43mnp\u001B[49m\u001B[38;5;241;43m.\u001B[39;49m\u001B[43mexp\u001B[49m\u001B[43m(\u001B[49m\u001B[38;5;241;43m-\u001B[39;49m\u001B[43mx\u001B[49m\u001B[43m)\u001B[49m)\n",
      "File \u001B[1;32mE:\\Programmer\\Python\\Python311\\Lib\\site-packages\\jax\\_src\\core.py:641\u001B[0m, in \u001B[0;36mTracer.__array__\u001B[1;34m(self, *args, **kw)\u001B[0m\n\u001B[0;32m    640\u001B[0m \u001B[38;5;28;01mdef\u001B[39;00m \u001B[38;5;21m__array__\u001B[39m(\u001B[38;5;28mself\u001B[39m, \u001B[38;5;241m*\u001B[39margs, \u001B[38;5;241m*\u001B[39m\u001B[38;5;241m*\u001B[39mkw):\n\u001B[1;32m--> 641\u001B[0m   \u001B[38;5;28;01mraise\u001B[39;00m TracerArrayConversionError(\u001B[38;5;28mself\u001B[39m)\n",
      "\u001B[1;31mTracerArrayConversionError\u001B[0m: The numpy.ndarray conversion method __array__() was called on traced array with shape float32[4,1].\nSee https://jax.readthedocs.io/en/latest/errors.html#jax.errors.TracerArrayConversionError"
     ]
    }
   ],
   "source": [
    "'''def dfdx(a):\n",
    "    \"\"\"Derivative of the activation function;\n",
    "    rewritten expression of the derivative for sigmoid function\"\"\"\n",
    "    return a * (1 - a)'''\n",
    "dfdx  = grad(activation)\n",
    "\n",
    "def automatic_error_L(target):\n",
    "    \"\"\"Returns function for output layer error using automatic differentiation with Jax.\"\"\"\n",
    "    dCda_L = grad(cost_log_reg(target))\n",
    "\n",
    "    def func(a):\n",
    "        return dfdx(a) * dCda_L(a)\n",
    "\n",
    "    return func\n",
    "\n",
    "\n",
    "# Compare analytical vs automatic error with target predictions\n",
    "auto_err = automatic_error_L(target)\n",
    "print(analy_err(probabilities))\n",
    "print()\n",
    "print(auto_err(probabilities))"
   ],
   "metadata": {
    "collapsed": false,
    "ExecuteTime": {
     "end_time": "2023-10-26T13:39:22.737019200Z",
     "start_time": "2023-10-26T13:39:22.664184500Z"
    }
   },
   "id": "6a50c579cef65872"
  },
  {
   "cell_type": "markdown",
   "source": [
    "### Back propagation\n",
    "The results are the same for the analytic and automatic error expressions, so I use the analytical expression since it is faster than using autograd each run.\n",
    "\n",
    "Since we only have one hidden layer we need to propogate only once from the output layer to the first hidden layer"
   ],
   "metadata": {
    "collapsed": false
   },
   "id": "5dc14ab235c1c487"
  },
  {
   "cell_type": "code",
   "execution_count": null,
   "outputs": [],
   "source": [
    "# Choose error method\n",
    "error_func = analy_err  # [analy_err / auto_err]\n",
    "\n",
    "\n",
    "def back_propagate(X):\n",
    "    \"\"\"Back propagation algorithm for one hidden layer\"\"\"\n",
    "    a_h, probabilities = feed_forward(X)\n",
    "\n",
    "    # Output layer error delta^L\n",
    "    error_o = error_func(probabilities)\n",
    "\n",
    "    # Hidden layer error delta^1\n",
    "    error_h = error_o @ output_weights.T * dfdx(a_h)\n",
    "\n",
    "    # Gradients for the hidden layer\n",
    "    hidden_weights_gradient = X.T @ error_h\n",
    "    hidden_bias_gradient = np.sum(error_h, axis=0)\n",
    "\n",
    "    # Gradients for the output layer\n",
    "    output_weights_gradient = a_h.T @ error_o\n",
    "    output_bias_gradient = np.sum(error_o, axis=0)\n",
    "\n",
    "    return hidden_weights_gradient, hidden_bias_gradient, output_weights_gradient, output_bias_gradient"
   ],
   "metadata": {
    "collapsed": false,
    "ExecuteTime": {
     "start_time": "2023-10-26T13:39:22.716195600Z"
    }
   },
   "id": "5bb7c334b5bfe1cc"
  },
  {
   "cell_type": "markdown",
   "source": [
    "### Iterating until convergence"
   ],
   "metadata": {
    "collapsed": false
   },
   "id": "1e514c3db4789bba"
  },
  {
   "cell_type": "code",
   "execution_count": null,
   "outputs": [],
   "source": [
    "eta = 0.9  # learning rate\n",
    "tol = 1e-7  # convergence check tolerance \n",
    "n_epochs = 1000  # max number of epochs \n",
    "\n",
    "for i in range(n_epochs):\n",
    "    # Feed forward and back propagate back to get all gradients for each epoch\n",
    "    dWh, dBh, dWo, dBo = back_propagate(X)\n",
    "    \n",
    "    # Update weights and biases\n",
    "    output_weights -= eta * dWo\n",
    "    output_bias -= eta * dBo\n",
    "    hidden_weights -= eta * dWh\n",
    "    hidden_bias -= eta * dBh\n",
    "\n",
    "print(\"After back propagation:\")\n",
    "print(\"Output weights and bias:\")\n",
    "print(output_weights)\n",
    "print(output_bias)\n",
    "\n",
    "print()\n",
    "print(\"Hidden weights and bias:\")\n",
    "print(hidden_weights)\n",
    "print(hidden_bias)\n",
    "\n",
    "print(\"\\nTarget:\")\n",
    "print(target)\n",
    "print(\"\\nProbabilities:\")\n",
    "probabilities = feed_forward(X)[-1]\n",
    "print(probabilities)\n",
    "print(\"\\nPrediction:\")\n",
    "print(predict(probabilities))"
   ],
   "metadata": {
    "collapsed": false,
    "ExecuteTime": {
     "start_time": "2023-10-26T13:39:22.717192400Z"
    }
   },
   "id": "54cbc0df5b4c8b9c"
  },
  {
   "cell_type": "markdown",
   "source": [
    "We get the correct prediction for both the OR and the AND gates, however the XOR gate gets predicted uncorrectly."
   ],
   "metadata": {
    "collapsed": false
   },
   "id": "ce753d18b744bdbe"
  },
  {
   "cell_type": "markdown",
   "source": [
    "[PLOT ACCURACY AS FUNCTION OF LEARNING RATE]"
   ],
   "metadata": {
    "collapsed": false
   },
   "id": "74abed9a40fc46b5"
  },
  {
   "cell_type": "markdown",
   "source": [],
   "metadata": {
    "collapsed": false
   },
   "id": "4e2b2f706db7f707"
  }
 ],
 "metadata": {
  "kernelspec": {
   "display_name": "Python 3",
   "language": "python",
   "name": "python3"
  },
  "language_info": {
   "codemirror_mode": {
    "name": "ipython",
    "version": 2
   },
   "file_extension": ".py",
   "mimetype": "text/x-python",
   "name": "python",
   "nbconvert_exporter": "python",
   "pygments_lexer": "ipython2",
   "version": "2.7.6"
  }
 },
 "nbformat": 4,
 "nbformat_minor": 5
}
