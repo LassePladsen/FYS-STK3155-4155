{
 "cells": [
  {
   "cell_type": "markdown",
   "source": [
    "# Exercises week 43 and 44\n",
    "### The OR, AND, and XOR gates\n",
    "\n",
    "We have two input values $x_1$ and $x_2$ which decide the output from the two types of gates. Since each input value can be either 0 or 1 we can write the input as a design matrix $X$ where the first and second column represents $x_1$ and $x_2$ respectively as:\n",
    "$$X = \\begin{bmatrix} 0 & 0 \\\\ 0 & 1 \\\\ 1 & 0 \\\\ 1 & 1 \\end{bmatrix}$$\n",
    "\n",
    "The output $y$ for the different gates we can write as the vectors $y^T=[0, 1,1,1]$ for the OR gate, $y^T=[0,0,0,1]$ for the AND gate, and $y^T=[0, 1, 1, 0]$ for the XOR gate. We setup this matrix and these vectors:\n"
   ],
   "metadata": {
    "collapsed": false
   },
   "id": "bf257eb40befa320"
  },
  {
   "cell_type": "code",
   "execution_count": 2,
   "outputs": [],
   "source": [
    "import numpy as np\n",
    "\n",
    "# Set up design matrix and output vectors\n",
    "X = np.asarray([\n",
    "        [0, 0],\n",
    "        [0, 1],\n",
    "        [1, 0],\n",
    "        [1, 1]\n",
    "])\n",
    "yOR = np.asarray([0, 1, 1, 1])\n",
    "yAND = np.asarray([0, 0, 0, 1])\n",
    "yXOR = np.asarray([0, 1, 1, 0])"
   ],
   "metadata": {
    "collapsed": false,
    "ExecuteTime": {
     "end_time": "2023-10-23T09:46:21.982358700Z",
     "start_time": "2023-10-23T09:46:21.970733700Z"
    }
   },
   "id": "58160402d5f28b1c"
  },
  {
   "cell_type": "markdown",
   "source": [
    "We create our NN architecture:"
   ],
   "metadata": {
    "collapsed": false
   },
   "id": "40a26ec520420a39"
  },
  {
   "cell_type": "code",
   "execution_count": 68,
   "outputs": [
    {
     "name": "stdout",
     "output_type": "stream",
     "text": [
      "[[ 0.60172129  1.15161897]\n",
      " [-1.35946236  0.22205533]]\n",
      "[[-0.77586755  0.8087058 ]\n",
      " [-0.19862826 -1.57869386]]\n"
     ]
    }
   ],
   "source": [
    "# Parameters\n",
    "n_hidden_layers = 1  # hidden layers\n",
    "n_hidden_nodes = 2  # hidden nodes\n",
    "n_categories = 2  # output values, for gates we only find 0 or 1\n",
    "n_inputs, n_features = X.shape  # 2 inputs, 4 features\n",
    "\n",
    "# Activation function\n",
    "def sigmoid(x):\n",
    "    return 1/(1 + np.exp(-x))\n",
    "\n",
    "# Initialize random number generator with seed\n",
    "rng = np.random.default_rng(2023)\n",
    "\n",
    "# Weights and bias in the hidden layer\n",
    "hidden_weights = rng.standard_normal((n_features, n_hidden_nodes))  # weights normally distributed\n",
    "hidden_bias = np.zeros(n_hidden_nodes) + 0.01\n",
    "\n",
    "# Weights and bias in the output layer\n",
    "output_weights = rng.standard_normal((n_hidden_nodes, n_categories))  # weights normally distributed\n",
    "output_bias = np.zeros(n_hidden_nodes) + 0.01\n",
    "\n",
    "print(hidden_weights)\n",
    "print(output_weights)"
   ],
   "metadata": {
    "collapsed": false,
    "ExecuteTime": {
     "end_time": "2023-10-23T10:18:01.291440500Z",
     "start_time": "2023-10-23T10:18:01.280959700Z"
    }
   },
   "id": "cfd0e5879201f65e"
  },
  {
   "cell_type": "markdown",
   "source": [
    "Then we set up the feed forward algorithm and compare one pass with the target vectors $y^T$"
   ],
   "metadata": {
    "collapsed": false
   },
   "id": "90be2689e40d3f08"
  },
  {
   "cell_type": "code",
   "execution_count": 84,
   "outputs": [
    {
     "name": "stdout",
     "output_type": "stream",
     "text": [
      "Targets:\n",
      "yOR = [0 1 1 1]\n",
      "yAND = [0 0 0 1]\n",
      "yXOR = [0 1 1 0]\n",
      "\n",
      "Prediction:\n",
      "[1 0 0 0]\n"
     ]
    }
   ],
   "source": [
    "def feed_forward(X):\n",
    "    \"\"\"Feed forward algorithm.\"\"\"\n",
    "    # weighted sum of inputs to the hidden layer\n",
    "    z_h = X @ hidden_weights + hidden_bias\n",
    "    \n",
    "    # activation in the hidden layer\n",
    "    a_h = sigmoid(z_h)\n",
    "    \n",
    "    # weighted sum of inputs to the output layer\n",
    "    z_o = a_h @ output_weights + output_bias\n",
    "    \n",
    "    # softmax output\n",
    "    # axis 0 holds each input and axis 1 the probabilities of each category\n",
    "    probabilities = sigmoid(z_o)\n",
    "    \n",
    "    return probabilities\n",
    "\n",
    "\n",
    "def predict(X):\n",
    "    \"\"\"Get neural network prediction using the feed forward algorithm.\"\"\"\n",
    "    probabilities = feed_forward(X)\n",
    "    return np.argmax(probabilities, axis=1)\n",
    "\n",
    "\n",
    "# Make prediction and compare with gate target y_vectors\n",
    "predictions  = predict(X)\n",
    "\n",
    "print(\"Targets:\")\n",
    "print(\"yOR =\", yOR)\n",
    "print(\"yAND =\", yAND)\n",
    "print(\"yXOR =\", yXOR)\n",
    "\n",
    "print(\"\\nPrediction:\")\n",
    "print(predictions) "
   ],
   "metadata": {
    "collapsed": false,
    "ExecuteTime": {
     "end_time": "2023-10-23T10:25:12.227243300Z",
     "start_time": "2023-10-23T10:25:12.220860300Z"
    }
   },
   "id": "197d2b7a7bd3be38"
  },
  {
   "cell_type": "markdown",
   "source": [
    "We see this prediction does not match any target. This is because we only did one pass and that was with random starting weights. Now we setup the cost function and the back propagation algorithm.\n",
    "\n",
    "For the cost function we use the cross entropy for binary cases"
   ],
   "metadata": {
    "collapsed": false
   },
   "id": "b24a0a554fb220f"
  },
  {
   "cell_type": "code",
   "execution_count": null,
   "outputs": [],
   "source": [
    "def cost_function(theta):\n",
    "    ..."
   ],
   "metadata": {
    "collapsed": false
   },
   "id": "e46a022e02ed29b"
  }
 ],
 "metadata": {
  "kernelspec": {
   "display_name": "Python 3",
   "language": "python",
   "name": "python3"
  },
  "language_info": {
   "codemirror_mode": {
    "name": "ipython",
    "version": 2
   },
   "file_extension": ".py",
   "mimetype": "text/x-python",
   "name": "python",
   "nbconvert_exporter": "python",
   "pygments_lexer": "ipython2",
   "version": "2.7.6"
  }
 },
 "nbformat": 4,
 "nbformat_minor": 5
}
