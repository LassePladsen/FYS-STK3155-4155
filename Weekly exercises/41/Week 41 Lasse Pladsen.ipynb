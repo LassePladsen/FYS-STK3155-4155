{
 "cells": [
  {
   "cell_type": "code",
   "execution_count": 1,
   "outputs": [],
   "source": [
    "import numpy as np\n",
    "import matplotlib.pyplot as plt"
   ],
   "metadata": {
    "collapsed": false,
    "ExecuteTime": {
     "end_time": "2023-10-10T07:47:28.858382Z",
     "start_time": "2023-10-10T07:47:26.021369600Z"
    }
   },
   "id": "de2ad8494c9b0836"
  },
  {
   "cell_type": "code",
   "execution_count": 40,
   "outputs": [],
   "source": [
    "# Global parameters\n",
    "N = 100  # no. data points\n",
    "noise_std = 0.1\n",
    "\n",
    "# Create data set\n",
    "np.random.seed(2023)\n",
    "x = np.random.rand(N, 1)\n",
    "noise = np.random.normal(0, noise_std, x.shape)\n",
    "y = 5 - 10*x + 2*x**2 + noise"
   ],
   "metadata": {
    "collapsed": false,
    "ExecuteTime": {
     "end_time": "2023-10-10T08:44:34.533708600Z",
     "start_time": "2023-10-10T08:44:34.528208Z"
    }
   },
   "id": "81176f3be35cf4b3"
  },
  {
   "cell_type": "markdown",
   "source": [
    "Plain gradient descent (GD)"
   ],
   "metadata": {
    "collapsed": false
   },
   "id": "e9b8c5169fadca4c"
  },
  {
   "cell_type": "code",
   "execution_count": 41,
   "id": "initial_id",
   "metadata": {
    "collapsed": true,
    "ExecuteTime": {
     "end_time": "2023-10-10T08:44:36.056210600Z",
     "start_time": "2023-10-10T08:44:36.048708800Z"
    }
   },
   "outputs": [],
   "source": [
    "# GD Parameters\n",
    "N_iters = 1000  # no. iterations\n",
    "learn_rate = 0.4\n",
    "\n",
    "X = np.c_[np.ones((N, 1)), x]  # ??\n",
    "beta_linreg = np.linalg.inv(X.T @ X) @ (X.T @ y)  # own inversion\n",
    "\n",
    "H = 2/N * X.T @ X  # Hessian matrix\n",
    "eig_vals, eig_vecs = np.linalg.eig(H)\n",
    "\n",
    "# Iterate through and improve beta\n",
    "beta = np.random.randn(2, 1)\n",
    "for i in range(N_iters):\n",
    "    grad = 2/N * X.T @ (X @ beta - y)\n",
    "    beta -= learn_rate * grad"
   ]
  },
  {
   "cell_type": "markdown",
   "source": [
    "Momentum based GD"
   ],
   "metadata": {
    "collapsed": false
   },
   "id": "eaee0bab9ea1e8f5"
  },
  {
   "cell_type": "code",
   "execution_count": null,
   "outputs": [],
   "source": [
    "# Momentum GD Parameters\n",
    "N_iters = 1000  # no. iterations\n",
    "learn_rate = 0.4\n",
    "\n",
    "X = np.c_[np.ones((N, 1)), x]  # ??\n",
    "beta_linreg = np.linalg.inv(X.T @ X) @ (X.T @ y)  # own inversion\n",
    "\n",
    "H = 2/N * X.T @ X  # Hessian matrix\n",
    "eig_vals, eig_vecs = np.linalg.eig(H)\n",
    "\n",
    "# Iterate through and improve beta\n",
    "beta = np.random.randn(2, 1)\n",
    "for i in range(N_iters):\n",
    "    grad = 2/N * X.T @ (X @ beta - y)\n",
    "    beta -= learn_rate * grad"
   ],
   "metadata": {
    "collapsed": false
   },
   "id": "8e660249302a560d"
  },
  {
   "cell_type": "markdown",
   "source": [
    "Print results"
   ],
   "metadata": {
    "collapsed": false
   },
   "id": "52306b4748ea549b"
  },
  {
   "cell_type": "code",
   "execution_count": 46,
   "outputs": [
    {
     "name": "stdout",
     "output_type": "stream",
     "text": [
      "Own inversion:\n",
      "beta=[ 4.65168156 -8.00899928]\n",
      "1/max(eigenvalues)=0.401248\n",
      "\n",
      "Own GD code:\n",
      "Learning rate=0.4\n",
      "beta=[ 4.65168156 -8.00899928]\n",
      "\n",
      "Own SGD code:\n"
     ]
    }
   ],
   "source": [
    "print(f\"Own inversion:\\nbeta={beta_linreg.ravel()}\\n1/max(eigenvalues)={1/max(eig_vals):g}\\n\")\n",
    "print(f\"Own GD code:\\nLearning rate={learn_rate}\\nbeta={beta.ravel()}\\n\")\n",
    "print(f\"Own SGD code:\\n\")"
   ],
   "metadata": {
    "collapsed": false,
    "ExecuteTime": {
     "end_time": "2023-10-10T08:47:26.169409800Z",
     "start_time": "2023-10-10T08:47:26.121151400Z"
    }
   },
   "id": "6877fa10fc07f5f9"
  }
 ],
 "metadata": {
  "kernelspec": {
   "display_name": "Python 3",
   "language": "python",
   "name": "python3"
  },
  "language_info": {
   "codemirror_mode": {
    "name": "ipython",
    "version": 2
   },
   "file_extension": ".py",
   "mimetype": "text/x-python",
   "name": "python",
   "nbconvert_exporter": "python",
   "pygments_lexer": "ipython2",
   "version": "2.7.6"
  }
 },
 "nbformat": 4,
 "nbformat_minor": 5
}
