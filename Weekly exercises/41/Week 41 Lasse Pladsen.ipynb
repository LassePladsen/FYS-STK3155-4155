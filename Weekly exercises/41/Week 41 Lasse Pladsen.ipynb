{
 "cells": [
  {
   "cell_type": "code",
   "execution_count": 237,
   "outputs": [],
   "source": [
    "import numpy as np\n",
    "import matplotlib.pyplot as plt"
   ],
   "metadata": {
    "collapsed": false,
    "ExecuteTime": {
     "end_time": "2023-10-10T12:21:08.250267100Z",
     "start_time": "2023-10-10T12:21:08.188398Z"
    }
   },
   "id": "de2ad8494c9b0836"
  },
  {
   "cell_type": "code",
   "execution_count": 243,
   "outputs": [],
   "source": [
    "# Global parameters\n",
    "N = 100  # no. data points\n",
    "N_iters = 10000  # max no. iterations before stopping\n",
    "noise_std = 0.1\n",
    "beta_tol = 1e-10  # beta tolerance for stopping iteration when |beta_new - beta_old| <= beta_tol\n",
    "lmbda = 0.01\n",
    "\n",
    "# Create data set\n",
    "np.random.seed(2023)\n",
    "x = np.random.rand(N, 1)\n",
    "noise = np.random.normal(0, noise_std, x.shape)\n",
    "y = 5 - 10*x + 2*x**2 + noise\n",
    "\n",
    "# Analytical calculations for comparing\n",
    "X = np.c_[np.ones((N, 1)), x]  # ??\n",
    "beta_ols = np.linalg.inv(X.T @ X) @ (X.T @ y)  # own OLS inversion\n",
    "I = np.identity(np.shape(X.T @ X)[0])\n",
    "beta_ridge = np.linalg.inv(X.T @ X + lmbda*I) @ (X.T @ y)  # own Ridge inversion\n",
    "\n",
    "H = 2/N * X.T @ X  # Hessian matrix\n",
    "eig_vals, eig_vecs = np.linalg.eig(H)"
   ],
   "metadata": {
    "collapsed": false,
    "ExecuteTime": {
     "end_time": "2023-10-10T12:22:10.086857100Z",
     "start_time": "2023-10-10T12:22:10.078998900Z"
    }
   },
   "id": "81176f3be35cf4b3"
  },
  {
   "cell_type": "markdown",
   "source": [
    "# Plain gradient descent (GD)"
   ],
   "metadata": {
    "collapsed": false,
    "ExecuteTime": {
     "end_time": "2023-10-10T10:42:59.438038500Z",
     "start_time": "2023-10-10T10:42:59.417217800Z"
    }
   },
   "id": "e9b8c5169fadca4c"
  },
  {
   "cell_type": "code",
   "execution_count": 239,
   "id": "initial_id",
   "metadata": {
    "collapsed": true,
    "ExecuteTime": {
     "end_time": "2023-10-10T12:21:08.304638Z",
     "start_time": "2023-10-10T12:21:08.245796800Z"
    }
   },
   "outputs": [],
   "source": [
    "# GD Parameters\n",
    "learn_rate = 0.4\n",
    "\n",
    "# Iterate through and improve beta\n",
    "beta = np.random.randn(2, 1)\n",
    "beta_prev = 0\n",
    "i = 0\n",
    "while i < N_iters and all(abs(beta - beta_prev) > beta_tol):  # convergence test\n",
    "    beta_prev = beta.copy()\n",
    "    grad = 2/N * X.T @ (X @ beta - y)\n",
    "    beta -= learn_rate * grad\n",
    "    i += 1\n",
    "iters_gd = i\n",
    "beta_gd = beta"
   ]
  },
  {
   "cell_type": "markdown",
   "source": [
    "# Momentum based GD"
   ],
   "metadata": {
    "collapsed": false,
    "ExecuteTime": {
     "end_time": "2023-10-10T10:42:33.921594100Z",
     "start_time": "2023-10-10T10:42:33.901868200Z"
    }
   },
   "id": "eaee0bab9ea1e8f5"
  },
  {
   "cell_type": "code",
   "execution_count": 240,
   "outputs": [],
   "source": [
    "# Momentum GD Parameters\n",
    "learn_rate = 0.4\n",
    "momentum_rate = 0.642\n",
    "\n",
    "# Iterate through and improve beta\n",
    "beta_pp = np.random.randn(2, 1)\n",
    "beta_p = 2/N * X.T @ (X @ beta_pp - y)\n",
    "beta = 2/N * X.T @ (X @ beta_p - y)\n",
    "i = 0\n",
    "while i < N_iters - 2 and all(abs(beta - beta_p) > beta_tol):  # convergence test\n",
    "    beta_pp = beta_p.copy()\n",
    "    beta_p = beta.copy()\n",
    "    grad = 2/N * X.T @ (X @ beta - y)\n",
    "    beta += momentum_rate * (beta_p - beta_pp) - learn_rate * grad\n",
    "    i += 1\n",
    "iters_mgd_ols = i\n",
    "beta_mgd_ols = beta"
   ],
   "metadata": {
    "collapsed": false,
    "ExecuteTime": {
     "end_time": "2023-10-10T12:21:08.329575600Z",
     "start_time": "2023-10-10T12:21:08.269736500Z"
    }
   },
   "id": "8e660249302a560d"
  },
  {
   "cell_type": "markdown",
   "source": [
    "# Stochastic gradient descent (SDG)"
   ],
   "metadata": {
    "collapsed": false
   },
   "id": "1b156b51a8ae74b0"
  },
  {
   "cell_type": "code",
   "execution_count": 241,
   "outputs": [],
   "source": [
    "# SDG parameters\n",
    "learn_rate = 0.4\n",
    "M = N/100  # size of each minibatch\n",
    "m = int(N/M)  # number of minibatches\n",
    "N_epochs = 50  # number of iterations over all minibatches \n",
    "\n"
   ],
   "metadata": {
    "collapsed": false,
    "ExecuteTime": {
     "end_time": "2023-10-10T12:21:08.355541700Z",
     "start_time": "2023-10-10T12:21:08.324590200Z"
    }
   },
   "id": "2288fdf2eba5055e"
  },
  {
   "cell_type": "markdown",
   "source": [
    "# Print results"
   ],
   "metadata": {
    "collapsed": false,
    "ExecuteTime": {
     "end_time": "2023-10-10T10:42:35.895861200Z",
     "start_time": "2023-10-10T10:42:35.887141400Z"
    }
   },
   "id": "52306b4748ea549b"
  },
  {
   "cell_type": "code",
   "execution_count": 242,
   "outputs": [
    {
     "name": "stdout",
     "output_type": "stream",
     "text": [
      "Own inversion:\n",
      "1/max(eigenvalues)=0.401248\n",
      "OLS beta=[ 4.65168156 -8.00899928]\n",
      "Ridge beta=[ 4.64446663 -7.99497541]\n",
      "beta tolerance=1e-10\n",
      "Max iterations=10000\n",
      "\n",
      "Own GD code:\n",
      "Learning rate=0.4\n",
      "beta=[ 4.65168156 -8.00899928]\n",
      "Iterations=445\n",
      "\n",
      "Own GD w/momentum code:\n",
      "Learning rate=0.4\n",
      "momentum rate=0.642\n",
      "beta=[ 4.65168156 -8.00899928]\n",
      "Iterations=93\n"
     ]
    }
   ],
   "source": [
    "print(f\"Own inversion:\\n\"\n",
    "      f\"1/max(eigenvalues)={1/max(eig_vals):g}\\n\"\n",
    "      f\"OLS beta={beta_ols.ravel()}\\n\"\n",
    "      f\"Ridge beta={beta_ridge.ravel()}\\n\"\n",
    "      f\"Beta tolerance={beta_tol}\\n\"\n",
    "      f\"Max iterations={N_iters}\\n\")\n",
    "print(f\"Own GD code:\\n\"\n",
    "      f\"Learning rate={learn_rate}\\n\"\n",
    "      f\"OLS beta={beta_gd_ols.ravel()}\\n\"\n",
    "      f\"OLS iterations={iters_gd_ols}\\n\"\n",
    "      f\"Ridge beta={beta_gd_ridge.ravel()}\\n\"\n",
    "      f\"Ridge iterations={iters_gd_ridge}\\n\")\n",
    "print(f\"Own GD w/momentum code:\\n\"\n",
    "      f\"Learning rate={learn_rate}\\n\"\n",
    "      f\"momentum rate={momentum_rate}\\n\"\n",
    "      f\"OLS beta={beta_mgd_ols.ravel()}\\n\"\n",
    "      f\"OLS iterations={iters_mgd_ols}\\n\"\n",
    "      f\"Ridge beta={beta_mgd_ridge.ravel()}\\n\"\n",
    "      f\"Ridge iterations={iters_mgd_ridge}\\n\")"
   ],
   "metadata": {
    "collapsed": false,
    "ExecuteTime": {
     "end_time": "2023-10-10T12:21:08.373976900Z",
     "start_time": "2023-10-10T12:21:08.345567900Z"
    }
   },
   "id": "6877fa10fc07f5f9"
  }
 ],
 "metadata": {
  "kernelspec": {
   "display_name": "Python 3",
   "language": "python",
   "name": "python3"
  },
  "language_info": {
   "codemirror_mode": {
    "name": "ipython",
    "version": 2
   },
   "file_extension": ".py",
   "mimetype": "text/x-python",
   "name": "python",
   "nbconvert_exporter": "python",
   "pygments_lexer": "ipython2",
   "version": "2.7.6"
  }
 },
 "nbformat": 4,
 "nbformat_minor": 5
}
