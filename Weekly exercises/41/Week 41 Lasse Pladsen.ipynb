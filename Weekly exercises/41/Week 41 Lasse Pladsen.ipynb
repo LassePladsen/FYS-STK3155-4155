{
 "cells": [
  {
   "cell_type": "code",
   "execution_count": 24,
   "outputs": [],
   "source": [
    "import numpy as np\n",
    "import matplotlib.pyplot as plt"
   ],
   "metadata": {
    "collapsed": false,
    "ExecuteTime": {
     "end_time": "2023-10-10T10:52:35.409675300Z",
     "start_time": "2023-10-10T10:52:35.372186200Z"
    }
   },
   "id": "de2ad8494c9b0836"
  },
  {
   "cell_type": "code",
   "execution_count": 25,
   "outputs": [],
   "source": [
    "# Global parameters\n",
    "N = 100  # no. data points\n",
    "N_iters = 10000  # max no. iterations before stopping\n",
    "noise_std = 0.1\n",
    "beta_tol = 1e-9  # beta tolerance for stopping iteration when |beta_new - beta_old| <= beta_tol\n",
    "\n",
    "# Create data set\n",
    "np.random.seed(2023)\n",
    "x = np.random.rand(N, 1)\n",
    "noise = np.random.normal(0, noise_std, x.shape)\n",
    "y = 5 - 10*x + 2*x**2 + noise\n",
    "\n",
    "# Analytical calculations for comparing\n",
    "X = np.c_[np.ones((N, 1)), x]  # ??\n",
    "beta_linreg = np.linalg.inv(X.T @ X) @ (X.T @ y)  # own inversion\n",
    "\n",
    "H = 2/N * X.T @ X  # Hessian matrix\n",
    "eig_vals, eig_vecs = np.linalg.eig(H)"
   ],
   "metadata": {
    "collapsed": false,
    "ExecuteTime": {
     "end_time": "2023-10-10T10:52:35.472635Z",
     "start_time": "2023-10-10T10:52:35.382267700Z"
    }
   },
   "id": "81176f3be35cf4b3"
  },
  {
   "cell_type": "markdown",
   "source": [
    "Plain gradient descent (GD)"
   ],
   "metadata": {
    "collapsed": false,
    "ExecuteTime": {
     "end_time": "2023-10-10T10:42:59.438038500Z",
     "start_time": "2023-10-10T10:42:59.417217800Z"
    }
   },
   "id": "e9b8c5169fadca4c"
  },
  {
   "cell_type": "code",
   "execution_count": 26,
   "id": "initial_id",
   "metadata": {
    "collapsed": true,
    "ExecuteTime": {
     "end_time": "2023-10-10T10:52:35.473630800Z",
     "start_time": "2023-10-10T10:52:35.419541Z"
    }
   },
   "outputs": [],
   "source": [
    "# GD Parameters\n",
    "learn_rate = 0.4\n",
    "\n",
    "# Iterate through and improve beta\n",
    "beta = np.random.randn(2, 1)\n",
    "beta_prev = 0\n",
    "i = 0\n",
    "while i < N_iters and all(abs(beta - beta_prev) > beta_tol):  # convergence test\n",
    "    beta_prev = beta.copy()\n",
    "    grad = 2/N * X.T @ (X @ beta - y)\n",
    "    beta -= learn_rate * grad\n",
    "iters_gd = i\n",
    "beta_gd = beta"
   ]
  },
  {
   "cell_type": "markdown",
   "source": [
    "Momentum based GD"
   ],
   "metadata": {
    "collapsed": false,
    "ExecuteTime": {
     "end_time": "2023-10-10T10:42:33.921594100Z",
     "start_time": "2023-10-10T10:42:33.901868200Z"
    }
   },
   "id": "eaee0bab9ea1e8f5"
  },
  {
   "cell_type": "code",
   "execution_count": 27,
   "outputs": [],
   "source": [
    "# Momentum GD Parameters\n",
    "learn_rate = 0.4\n",
    "momentum_rate = 1\n",
    "\n",
    "# Iterate through and improve beta\n",
    "beta_prev = np.random.randn(2, 1)\n",
    "beta = 2/N * X.T @ (X @ beta - y)\n",
    "i = 0\n",
    "while i < N_iters - 1 and all(abs(beta - beta_prev) > beta_tol):  # convergence test\n",
    "    beta_prev = beta.copy()\n",
    "    grad = 2/N * X.T @ (X @ beta - y)\n",
    "    momentum = momentum_rate * (beta - beta_prev)\n",
    "    beta -= learn_rate * grad - momentum\n",
    "iters_mgd = i\n",
    "beta_mgd = beta"
   ],
   "metadata": {
    "collapsed": false,
    "ExecuteTime": {
     "end_time": "2023-10-10T10:52:35.499055900Z",
     "start_time": "2023-10-10T10:52:35.455680500Z"
    }
   },
   "id": "8e660249302a560d"
  },
  {
   "cell_type": "markdown",
   "source": [
    "Print results"
   ],
   "metadata": {
    "collapsed": false,
    "ExecuteTime": {
     "end_time": "2023-10-10T10:42:35.895861200Z",
     "start_time": "2023-10-10T10:42:35.887141400Z"
    }
   },
   "id": "52306b4748ea549b"
  },
  {
   "cell_type": "code",
   "execution_count": 28,
   "outputs": [
    {
     "name": "stdout",
     "output_type": "stream",
     "text": [
      "Own inversion:\n",
      "1/max(eigenvalues)=0.401248\n",
      "beta=[ 4.65168156 -8.00899928]\n",
      "beta tolerance=1e-09\n",
      "Max iterations=10000\n",
      "\n",
      "Own GD code:\n",
      "Learning rate=0.4\n",
      "beta=[ 4.65168154 -8.00899924]\n",
      "Iterations=0\n",
      "\n",
      "Own GD w/momentum code:\n",
      "Learning rate=0.4\n",
      "momentum rate=1\n",
      "beta=[ 4.65168154 -8.00899924]\n",
      "Iterations=0\n"
     ]
    }
   ],
   "source": [
    "print(f\"Own inversion:\\n1/max(eigenvalues)={1/max(eig_vals):g}\\nbeta={beta_linreg.ravel()}\\n\"\n",
    "      f\"beta tolerance={beta_tol}\\nMax iterations={N_iters}\\n\")\n",
    "print(f\"Own GD code:\\nLearning rate={learn_rate}\\nbeta={beta_gd.ravel()}\\nIterations={iters_gd}\\n\")\n",
    "print(f\"Own GD w/momentum code:\\nLearning rate={learn_rate}\\nmomentum rate={momentum_rate}\\n\"\n",
    "      f\"beta={beta_mgd.ravel()}\\nIterations={iters_mgd}\\n\")"
   ],
   "metadata": {
    "collapsed": false,
    "ExecuteTime": {
     "end_time": "2023-10-10T10:52:35.528718800Z",
     "start_time": "2023-10-10T10:52:35.492914500Z"
    }
   },
   "id": "6877fa10fc07f5f9"
  }
 ],
 "metadata": {
  "kernelspec": {
   "display_name": "Python 3",
   "language": "python",
   "name": "python3"
  },
  "language_info": {
   "codemirror_mode": {
    "name": "ipython",
    "version": 2
   },
   "file_extension": ".py",
   "mimetype": "text/x-python",
   "name": "python",
   "nbconvert_exporter": "python",
   "pygments_lexer": "ipython2",
   "version": "2.7.6"
  }
 },
 "nbformat": 4,
 "nbformat_minor": 5
}
