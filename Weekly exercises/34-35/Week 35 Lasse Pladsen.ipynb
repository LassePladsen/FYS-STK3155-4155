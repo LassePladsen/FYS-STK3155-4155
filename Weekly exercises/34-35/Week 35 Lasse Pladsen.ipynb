{
 "cells": [
  {
   "cell_type": "markdown",
   "id": "af9c791e-431c-4585-9c50-5db6c5f005b3",
   "metadata": {},
   "source": [
    "# Week 35"
   ]
  },
  {
   "cell_type": "markdown",
   "id": "78ff88e2-930b-40dd-9186-d4e0892835fa",
   "metadata": {},
   "source": [
    "## Exercise 1\n",
    "I start by writing the Jacobi-matrix which is going to be a 1xn matrix/vector assuming the vectors' length are n, because $\\textbf{b}^T\\textbf{a}$ is a scalar:\n",
    "\\begin{gather}\n",
    "\\frac{\\partial (\\mathbf{b}^T\\mathbf{a})}{\\partial \\mathbf{a}} = \\mathbf{J} = \\begin{pmatrix} \\frac{\\partial (\\mathbf{b}^T\\mathbf{a})}{\\partial a_0} & ... & \\frac{\\partial (\\mathbf{b}^T\\mathbf{a})}{\\partial a_{n-1}}  \\end{pmatrix}\n",
    "\\end{gather}\n",
    "I then write the scalar as a sum of the vector elements:\n",
    "\\begin{gather}\n",
    "\\\\ = \\begin{pmatrix} \\frac{\\partial \\sum_{i=0}^{n-1} b_i a_i}{\\partial a_0} & ... & \\frac{\\partial \\sum_{i=0}^{n-1} b_i a_i}{\\partial a_{n-1}}  \\end{pmatrix}\n",
    "\\end{gather}\n",
    "I can then easily differentiate the terms seperately, and all the elements which dont include the $a_i$-term being differentiated are easily discarded:\n",
    "\\begin{gather}\n",
    "\\\\ = \\begin{pmatrix} b_0 & b_1 & ... & b_{n-1} \\end{pmatrix} = \\underline{\\mathbf{b}}\n",
    "\\end{gather}"
   ]
  },
  {
   "cell_type": "markdown",
   "id": "060f01fe-c4da-4b8c-b3f3-e15ff41fc3ff",
   "metadata": {},
   "source": [
    "We do the same for the next task, because $\\mathbf{a}^T \\mathbf{A} \\mathbf{a}$ is also a scalar:\n",
    "\\begin{gather}\n",
    "\\frac{\\partial (\\mathbf{a}^T \\mathbf{A} \\mathbf{a})}{\\partial \\mathbf{a}} = \\mathbf{J} = \\begin{pmatrix} \\frac{\\partial (\\mathbf{a}^T \\mathbf{A} \\mathbf{a})}{\\partial a_0} & ... & \\frac{\\partial (\\mathbf{a}^T \\mathbf{A} \\mathbf{a})}{\\partial a_{n-1}}  \\end{pmatrix}\n",
    "\\\\ = \\begin{pmatrix} \\frac{\\partial (\\sum_{i=0}^{n-1}\\sum_{j=0}^{n-1}a_iA_{ij}a_j)}{\\partial a_0} & ... & \\frac{\\partial (\\sum_{i=0}^{n-1}\\sum_{j=0}^{n-1}a_iA_{ij}a_j)}{\\partial a_{n-1}}  \\end{pmatrix}\n",
    "\\\\ = \\begin{pmatrix} \\frac{\\partial}{\\partial a_0}[(a_0(A_{00}a_0 + A_{01}a_1 + ... + A_{0(n-1)}a_{n-1}) + a_1(A_{10}a_0 + A_{11}a_1 + ... + A_{1(n-1)}a_{n-1}) + ... + a_{n-1}(A_{(n-1)0}a_0 + A_{(n-1)1}a_1 + ... + A_{(n-1)(n-1)}a_{n-1})] & ...\\end{pmatrix}\n",
    "\\end{gather}\n",
    "the difference is that now each vector-element will have two sums after differentiating (this is hard to follow and even harder to write correctly):\n",
    "\\begin{gather}\n",
    "= \\begin{pmatrix}[2a_0A_{00} + a_1 A_{01} + ... + a_{n-1}A_{0(n-1)}] + [a_1A_{10} + ... + a_{n-1}A_{(n-1)0}] & ... & [a_0A_{(n-1)0} + a_1 A_{(n-1)1} + ... + 2a_{n-1}A_{(n-1)(n-1)}] + [a_0A_{00} + ... + a_{n-2}A_{(n-1)(n-2)}]\\end{pmatrix}\n",
    "\\\\ = \\begin{pmatrix} a_0A_{00} + \\sum_{i=0}^{n-1}a_iA_{1i} + \\sum_{j=1}^{n-1}a_jA_{j1} & ... & a_{n-1}A_{(n-1)(n-1)} + \\sum_{i=0}^{n-1}a_iA_{(n-1)i} + \\sum_{j=1}^{n-2}a_jA_{j(n-1)} \\end{pmatrix}\n",
    "\\end{gather}\n",
    "We slump the extra terms into the second sums\n",
    "\\begin{gather}\n",
    " = \\begin{pmatrix} \\sum_{i=0}^{n-1}a_iA_{1i} + \\sum_{j=0}^{n-1}a_jA_{j1} & ... & \\sum_{i=0}^{n-1}a_iA_{(n-1)i} + \\sum_{j=0}^{n-1}a_jA_{j(n-1)} \\end{pmatrix}\n",
    "\\end{gather}\n",
    "here we can see that the $\\mathbf{a}$-terms are multiplied into both these two terms for each element, meaning we can identify these sums like shown in example 3 of the weeks lecture notes:\n",
    "\\begin{gather}\n",
    " \\\\= \\underline{\\mathbf{a}^T(\\mathbf{A} + \\mathbf{A}^T)}\n",
    "\\end{gather}"
   ]
  },
  {
   "cell_type": "markdown",
   "id": "e183bdc0-245c-4f53-932a-d187b3f771d6",
   "metadata": {},
   "source": [
    "For the next task we recognize that $(\\mathbf{x}-\\mathbf{A}\\mathbf{s})^T(\\mathbf{x}-\\mathbf{A}\\mathbf{s})$ also is a scalar like before, if $\\mathbf{A}$ is a quadratic nxn matrix. We start the same:\n",
    "\\begin{gather}\n",
    "\\frac{\\partial (\\mathbf{x}-\\mathbf{A}\\mathbf{s})^T(\\mathbf{x}-\\mathbf{A}\\mathbf{s})}{\\partial \\mathbf{s}} = \\mathbf{J} \n",
    "= \\begin{pmatrix} \\frac{\\partial (\\mathbf{x}-\\mathbf{A}\\mathbf{s})^T(\\mathbf{x}-\\mathbf{A}\\mathbf{s})}{\\partial s_0} & ...  \n",
    "& \\frac{\\partial (\\mathbf{x}-\\mathbf{A}\\mathbf{s})^T(\\mathbf{x}-\\mathbf{A}\\mathbf{s})}{\\partial s_{n-1}}\\end{pmatrix}\n",
    "\\\\ = \\begin{pmatrix} \\frac{\\partial (\\sum_{i=0}^{n-1}(x_i - \\sum_{j=0}^{n-1}A_{ij}s_j))^T(\\sum_{i=0}^{n-1}(x_i - \\sum_{j=0}^{n-1}A_{ij}s_j))}{\\partial s_0} & ... \n",
    "& \\frac{\\partial (\\sum_{i=0}^{n-1}(x_i - \\sum_{j=0}^{n-1}A_{ij}s_j))^T(\\sum_{i=0}^{n-1}(x_i - \\sum_{j=0}^{n-1}A_{ij}s_j))}{\\partial s_{n-1}}\\end{pmatrix}\n",
    "\\end{gather}\n",
    "\n",
    "I stared at this for quite some while, but I really just couldn't figure out the next step and I found it quite difficult to not \"lose my tongue\"."
   ]
  },
  {
   "cell_type": "markdown",
   "id": "fb35f160-8c18-4901-b5f5-492856e1272b",
   "metadata": {},
   "source": [
    "## Exercise 2\n",
    "### Own code:"
   ]
  },
  {
   "cell_type": "code",
   "execution_count": 2,
   "id": "e7f51431-a3e2-45c3-b6e7-8265ce49a2e5",
   "metadata": {
    "jp-MarkdownHeadingCollapsed": true,
    "ExecuteTime": {
     "end_time": "2023-09-04T13:08:43.173774600Z",
     "start_time": "2023-09-04T13:08:42.126972400Z"
    }
   },
   "outputs": [
    {
     "name": "stdout",
     "output_type": "stream",
     "text": [
      "OWN CODE\n",
      "-----------------------\n",
      "MSE: 0.00930348\n",
      "R2: 0.995929\n"
     ]
    }
   ],
   "source": [
    "import numpy as np\n",
    "from sklearn.linear_model import LinearRegression\n",
    "from sklearn.metrics import mean_squared_error, r2_score\n",
    "\n",
    "# Data\n",
    "n = 100  # no. data points\n",
    "x = np.random.rand(n, 1)\n",
    "y = 2.0 + 5 * x * x + 0.1 * np.random.randn(n, 1)\n",
    "\n",
    "# Own code\n",
    "X = np.zeros((n, 3))\n",
    "X[:, 0] = 1\n",
    "X[:, 1] = x[:, 0]\n",
    "X[:, 2] = x[:, 0]**2\n",
    "\n",
    "beta = np.linalg.inv(X.T @ X) @ X.T @ y\n",
    "y_tilde = X @ beta\n",
    "\n",
    "# Metrics\n",
    "print(\"OWN CODE\\n-----------------------\")\n",
    "print(f\"MSE: {mean_squared_error(y, y_tilde):g}\")\n",
    "print(f\"R2: {r2_score(y, y_tilde):g}\")"
   ]
  },
  {
   "cell_type": "markdown",
   "id": "e5d3bede-2136-44c2-9288-62926d6a1256",
   "metadata": {},
   "source": [
    "Scikit-learn:"
   ]
  },
  {
   "cell_type": "code",
   "execution_count": 3,
   "id": "40adaccd-11dd-4116-8939-fed5a1fb58d8",
   "metadata": {
    "ExecuteTime": {
     "end_time": "2023-09-04T13:08:43.182751100Z",
     "start_time": "2023-09-04T13:08:43.171781200Z"
    }
   },
   "outputs": [
    {
     "name": "stdout",
     "output_type": "stream",
     "text": [
      "SCIKIT-LEARN\n",
      "---------------------\n",
      "MSE: 0.00930348\n",
      "R2: 0.995929\n"
     ]
    }
   ],
   "source": [
    "linreg = LinearRegression(fit_intercept=False)\n",
    "linreg.fit(X, y)\n",
    "y_skl = linreg.predict(X)\n",
    "\n",
    "# Metrics\n",
    "print(\"SCIKIT-LEARN\\n---------------------\")\n",
    "print(f\"MSE: {mean_squared_error(y, y_skl):g}\")\n",
    "print(f\"R2: {r2_score(y, y_skl):g}\")"
   ]
  },
  {
   "cell_type": "markdown",
   "id": "6d9477ee-de8a-484d-8f5d-53e5912113e4",
   "metadata": {},
   "source": [
    "## Exercise 3\n",
    "### Ex3a)"
   ]
  },
  {
   "cell_type": "code",
   "execution_count": 4,
   "id": "a33e47aa-bca7-4b5e-b9ea-e264ff51e8f9",
   "metadata": {
    "ExecuteTime": {
     "end_time": "2023-09-04T13:08:43.516650800Z",
     "start_time": "2023-09-04T13:08:43.181756Z"
    }
   },
   "outputs": [],
   "source": [
    "import numpy as np\n",
    "import matplotlib.pyplot as plt\n",
    "from sklearn.model_selection import train_test_split\n",
    "from sklearn.preprocessing import PolynomialFeatures\n",
    "from sklearn.metrics import mean_squared_error, r2_score\n",
    "from sklearn.linear_model import LinearRegression\n",
    "\n",
    "# Data set\n",
    "np.random.seed()\n",
    "n = 100\n",
    "maxdegree = 6  # 5th degree polynomial plus intercept\n",
    "x = np.linspace(-3, 3, n).reshape(-1, 1)\n",
    "y = np.exp(-x**2) + 1.5 * np.exp(-(x-2)**2) + np.random.normal(0, 0.1, x.shape)\n",
    "\n",
    "# Create design matrix\n",
    "X = np.zeros((n, maxdegree))\n",
    "for degree in range(maxdegree):\n",
    "    X[:, degree] = x[:, 0]**degree\n",
    "    \n",
    "# Split into training and test data\n",
    "X_train, X_test, y_train, y_test = train_test_split(X, y, test_size=0.2)"
   ]
  },
  {
   "cell_type": "markdown",
   "id": "1da6750b-c38a-45cc-bf22-dc9eca25ff15",
   "metadata": {},
   "source": [
    "### Ex3b)"
   ]
  },
  {
   "cell_type": "code",
   "execution_count": 5,
   "id": "70ae88ec-691a-441b-a613-aae1e020bc8b",
   "metadata": {
    "ExecuteTime": {
     "end_time": "2023-09-04T13:08:43.527421700Z",
     "start_time": "2023-09-04T13:08:43.519374500Z"
    }
   },
   "outputs": [
    {
     "name": "stdout",
     "output_type": "stream",
     "text": [
      "OWN CODE\n",
      "-----------------------\n",
      "Train MSE: 0.0184664\n",
      "Test MSE: 0.0361387\n",
      "\n",
      "SCIKIT-LEARN\n",
      "---------------------\n",
      "Train MSE: 0.0184664\n",
      "Test MSE: 0.0361387\n"
     ]
    }
   ],
   "source": [
    "# Linear regression\n",
    "beta = np.linalg.inv(X_train.T @ X_train) @ X_train.T @ y_train\n",
    "y_tilde = X_train @ beta\n",
    "y_predict = X_test @ beta\n",
    "\n",
    "# Scikit \n",
    "linreg.fit(X_train, y_train)\n",
    "y_skl = linreg.predict(X_train)\n",
    "y_skl_pred = linreg.predict(X_test)\n",
    "\n",
    "\n",
    "# Metrics\n",
    "print(\"OWN CODE\\n-----------------------\")\n",
    "print(f\"Train MSE: {mean_squared_error(y_train, y_tilde):g}\")\n",
    "print(f\"Test MSE: {mean_squared_error(y_test, y_predict):g}\")\n",
    "print(\"\\nSCIKIT-LEARN\\n---------------------\")\n",
    "print(f\"Train MSE: {mean_squared_error(y_train, y_skl):g}\")\n",
    "print(f\"Test MSE: {mean_squared_error(y_test, y_skl_pred):g}\")"
   ]
  },
  {
   "cell_type": "markdown",
   "id": "22ce02a9-044e-4651-9457-8aa199e33567",
   "metadata": {},
   "source": [
    "### Ex3c)"
   ]
  },
  {
   "cell_type": "code",
   "execution_count": 12,
   "id": "5fd0e639-e9b4-4587-9495-bf746112e90b",
   "metadata": {
    "ExecuteTime": {
     "end_time": "2023-09-04T13:10:55.688807200Z",
     "start_time": "2023-09-04T13:10:55.525062500Z"
    }
   },
   "outputs": [
    {
     "data": {
      "text/plain": "Text(0, 0.5, 'Mean squared error')"
     },
     "execution_count": 12,
     "metadata": {},
     "output_type": "execute_result"
    },
    {
     "data": {
      "text/plain": "<Figure size 640x480 with 1 Axes>",
      "image/png": "[encoded data removed]"
     },
     "metadata": {},
     "output_type": "display_data"
    }
   ],
   "source": [
    "maxdegree = 16  # 15th degree polynomial plus intercept\n",
    "degrees = np.array(range(1, maxdegree)) # loop from 1 to 15 degrees.\n",
    "train_mse = []\n",
    "test_mse = []\n",
    "\n",
    "# Create design matrix first\n",
    "X = np.zeros((n, maxdegree))\n",
    "for degree in degrees:\n",
    "    X[:, degree] = x[:, 0]**degree\n",
    "\n",
    "# Then loop over the degrees again to do the mean error calculations\n",
    "for degree in degrees:\n",
    "    # Split into training and test data\n",
    "    X_train, X_test, y_train, y_test = train_test_split(X[:, :degree], y, test_size=0.2)\n",
    "    linreg.fit(X_train, y_train)\n",
    "    y_tilde = linreg.predict(X_train)\n",
    "    y_predict = linreg.predict(X_test)\n",
    "    train_mse.append(mean_squared_error(y_train, y_tilde))\n",
    "    test_mse.append(mean_squared_error(y_test, y_predict))\n",
    "\n",
    "# Plotting\n",
    "plt.plot(degrees, train_mse, label=\"Train\")\n",
    "plt.plot(degrees, test_mse, label=\"Test\")\n",
    "plt.legend()\n",
    "plt.xlabel(\"Degree of polynomial\")\n",
    "plt.ylabel(\"Mean squared error\")  "
   ]
  },
  {
   "cell_type": "markdown",
   "id": "5177926b-25c2-4174-b7db-38f1f23001f4",
   "metadata": {},
   "source": [
    "This plot shows very different for every time the randomized data is run, but the common overarching feature is that the training MSE and testing MSE diverge with increasing polynomial degree. This is exactly what is shown in the idealized plot figure 2.11 of Hastie et al. Idealized we should see the optimal training MSE at the highest degree since, however in this exact configuration my plot shows it at 13th polynomial degree, and the testing MSE at the 6th degree. Idealized, from figure 2.11, we should see the optimal testing MSE around the point where the two errors diverge, this is a sign of overfitting our data. "
   ]
  }
 ],
 "metadata": {
  "kernelspec": {
   "display_name": "Python 3 (ipykernel)",
   "language": "python",
   "name": "python3"
  },
  "language_info": {
   "codemirror_mode": {
    "name": "ipython",
    "version": 3
   },
   "file_extension": ".py",
   "mimetype": "text/x-python",
   "name": "python",
   "nbconvert_exporter": "python",
   "pygments_lexer": "ipython3",
   "version": "3.11.4"
  }
 },
 "nbformat": 4,
 "nbformat_minor": 5
}
