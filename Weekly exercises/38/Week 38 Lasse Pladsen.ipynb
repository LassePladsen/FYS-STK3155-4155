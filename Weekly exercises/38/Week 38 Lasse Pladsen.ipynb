{
 "cells": [
  {
   "cell_type": "markdown",
   "source": [
    "# Exercises week 38\n",
    "### Show the rewrite\n",
    "We write the cost function as \n",
    "$$C(\\mathbf{X, \\beta} = \\mathbb{E}\\left[ (\\mathbf{y-\\tilde{y}})^2 \\right]$$\n",
    "then we write this out as\n",
    "$$\\mathbb{E}\\left[ y^2 - 2y\\tilde{y} + \\tilde{y}^2 \\right]\n",
    "\\\\ = \\mathbb{E}[y^2] - 2\\mathbb{E}[y\\tilde{y}] + \\mathbb{E}[\\tilde{y}^2]\n",
    "\\\\ = \\mathbb{E}[y^2] - 2\\mathbb{E}[y\\tilde{y}] + \\mathbb{E}[\\tilde{y}^2] $$\n",
    "I will take on these three terms one by one:\n",
    "$$\\mathbb{E}[y^2] = \\mathbb{E}[(f+\\epsilon)^2]\n",
    "\\\\ = \\mathbb{E}[f^2 + 2f\\epsilon + \\epsilon^2]\n",
    "\\\\ = \\mathbb{E}[f^2] + \\mathbb{E}[2f\\epsilon] + \\mathbb{E}[\\epsilon^2]\n",
    "$$ here we use that $\\mathbb{E}[f] = f, \\mathbb{E}[\\epsilon] = 0, \\mathbb{E}[\\epsilon^2]=\\sigma^2$ since $\\epsilon$ is the only random/stochastic variable $\\epsilon \\sim \\mathbb{N}(0, \\sigma^2)$.\n",
    "$$ = f^2 + 2f\\mathbb{E}[\\epsilon] + \\sigma^2\n",
    "\\\\ = f^2 + \\sigma^2 $$\n",
    "Then we tackle the next term:\n",
    "$$ \\mathbb{E}[y\\tilde{y}] = \\mathbb{E}[(f+\\epsilon)\\tilde{y}]\n",
    "\\\\ = \\mathbb{E}[f\\tilde{y} + \\epsilon\\tilde{y}]\n",
    "\\\\ = \\mathbb{E}[f\\tilde{y}] + \\mathbb{E}[\\epsilon\\tilde{y}]\n",
    "\\\\ = f\\mathbb{E}[\\tilde{y}] + \\mathbb{E}[\\epsilon] \\mathbb{E}[\\tilde{y}]\n",
    "\\\\ = f\\mathbb{E}[\\tilde{y}]\n",
    "$$\n",
    "then the third and final term:\n",
    "$$ \\mathbb{E}[\\tilde{y}^2] = var[\\tilde{y}] + (\\mathbb{E}[\\tilde{y}])^2 $$\n",
    "where we have used the definition of variance $var(x) = \\mathbb{E}[x^2] - (\\mathbb{E}[x])^2$. We now put these three terms into our cost function expression:\n",
    "$$ C(\\mathbf{X, \\beta} = \\mathbb{E}\\left[ (\\mathbf{y-\\tilde{y}})^2 \\right] = \\mathbb{E}[y^2] - 2\\mathbb{E}[y\\tilde{y}] + \\mathbb{E}[\\tilde{y}^2]\n",
    "\\\\ = f^2 + \\sigma^2 - 2f\\mathbb{E}[\\tilde{y}] + var[\\tilde{y}] + (\\mathbb{E}[\\tilde{y}])^2 \n",
    "\\\\ = (f^2 - 2f\\mathbb{E}[\\tilde{y}] + (\\mathbb{E}[\\tilde{y}])^2) + \\sigma^2 + var[\\tilde{y}]\n",
    "\\\\ = (f - \\mathbb{E}[\\tilde{y}])^2 + var[\\tilde{y}] + \\sigma^2 \n",
    "\\\\ = (Bias[\\tilde{y}])^2 +  var[\\tilde{y}] + \\sigma^2 \n",
    "$$\n",
    "where we can write out \n",
    "$$ var[\\tilde{y}] = \\frac{1}{N} \\sum_{i=0}^{N-1} (\\tilde{y}_i - \\mathbb{E}[\\tilde{y}])^2 = var[\\tilde{f}] $$\n",
    "such that we have now shown that \n",
    "$$ \\mathbb{E}\\left[ (\\mathbf{y-\\tilde{y}})^2 \\right] = (Bias[\\tilde{y}])^2 +  var[\\tilde{f}] + \\sigma^2 $$\n",
    "\n"
   ],
   "metadata": {
    "collapsed": false
   },
   "id": "6d31f9802f236081"
  },
  {
   "cell_type": "markdown",
   "source": [
    "The bias term means the model's systematic bias (or the model's mean value's error) from the ideal. For example this could mean that all our model's data points/the model's mean value have a shift from the ideal of a some constant $C$ like $|y - \\tilde{y}| = C$. A big bias means a bigger drift and error from the ideal, and therefore a low bias is what we want.\n",
    "\n",
    "The variance term is our model's variance from the mean value. A high variance means a bigger spread of the model data points around the mean/expectation value, and a low variance means a smaller spread which is what we want.\n",
    "\n",
    "### 1D Bias-variance analysis of OLS\n",
    "... "
   ],
   "metadata": {
    "collapsed": false
   },
   "id": "1fdfb79442fff9d8"
  }
 ],
 "metadata": {
  "kernelspec": {
   "display_name": "Python 3",
   "language": "python",
   "name": "python3"
  },
  "language_info": {
   "codemirror_mode": {
    "name": "ipython",
    "version": 2
   },
   "file_extension": ".py",
   "mimetype": "text/x-python",
   "name": "python",
   "nbconvert_exporter": "python",
   "pygments_lexer": "ipython2",
   "version": "2.7.6"
  }
 },
 "nbformat": 4,
 "nbformat_minor": 5
}
